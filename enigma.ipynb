{
 "cells": [
  {
   "cell_type": "code",
   "execution_count": 1,
   "metadata": {},
   "outputs": [
    {
     "data": {
      "text/html": [
       "<div>\n",
       "<style scoped>\n",
       "    .dataframe tbody tr th:only-of-type {\n",
       "        vertical-align: middle;\n",
       "    }\n",
       "\n",
       "    .dataframe tbody tr th {\n",
       "        vertical-align: top;\n",
       "    }\n",
       "\n",
       "    .dataframe thead th {\n",
       "        text-align: right;\n",
       "    }\n",
       "</style>\n",
       "<table border=\"1\" class=\"dataframe\">\n",
       "  <thead>\n",
       "    <tr style=\"text-align: right;\">\n",
       "      <th></th>\n",
       "      <th>patient number</th>\n",
       "      <th>Name</th>\n",
       "      <th>sex</th>\n",
       "      <th>age</th>\n",
       "      <th>chest pain</th>\n",
       "      <th>resting blood pressure</th>\n",
       "      <th>cholestrol</th>\n",
       "      <th>fasting blood sugar</th>\n",
       "      <th>resting electrocardiographic</th>\n",
       "      <th>maximum heart rate achieved</th>\n",
       "      <th>...</th>\n",
       "      <th>pulse rate</th>\n",
       "      <th>smoking</th>\n",
       "      <th>left anterior descending</th>\n",
       "      <th>circumflex artery</th>\n",
       "      <th>right coronary artery</th>\n",
       "      <th>obtuse marginal</th>\n",
       "      <th>left posterior descending artery</th>\n",
       "      <th>left coronary artery</th>\n",
       "      <th>stent</th>\n",
       "      <th>Unnamed: 25</th>\n",
       "    </tr>\n",
       "  </thead>\n",
       "  <tbody>\n",
       "    <tr>\n",
       "      <td>0</td>\n",
       "      <td>1368.0</td>\n",
       "      <td>KESHAV PADHYAY</td>\n",
       "      <td>M</td>\n",
       "      <td>52.0</td>\n",
       "      <td>0.0</td>\n",
       "      <td>125</td>\n",
       "      <td>212.0</td>\n",
       "      <td>0.0</td>\n",
       "      <td>1.0</td>\n",
       "      <td>168.0</td>\n",
       "      <td>...</td>\n",
       "      <td>91.0</td>\n",
       "      <td>yes</td>\n",
       "      <td>50-60</td>\n",
       "      <td>NaN</td>\n",
       "      <td>80-90</td>\n",
       "      <td>20-30</td>\n",
       "      <td>NaN</td>\n",
       "      <td>30-40</td>\n",
       "      <td>1.0</td>\n",
       "      <td>NaN</td>\n",
       "    </tr>\n",
       "    <tr>\n",
       "      <td>1</td>\n",
       "      <td>1877.0</td>\n",
       "      <td>VINOD NAIDU</td>\n",
       "      <td>M</td>\n",
       "      <td>53.0</td>\n",
       "      <td>0.0</td>\n",
       "      <td>140</td>\n",
       "      <td>203.0</td>\n",
       "      <td>1.0</td>\n",
       "      <td>0.0</td>\n",
       "      <td>155.0</td>\n",
       "      <td>...</td>\n",
       "      <td>61.0</td>\n",
       "      <td>YES</td>\n",
       "      <td>70-80</td>\n",
       "      <td>NaN</td>\n",
       "      <td>40-50</td>\n",
       "      <td>NaN</td>\n",
       "      <td>NaN</td>\n",
       "      <td>NaN</td>\n",
       "      <td>1.0</td>\n",
       "      <td>NaN</td>\n",
       "    </tr>\n",
       "    <tr>\n",
       "      <td>2</td>\n",
       "      <td>4289.0</td>\n",
       "      <td>SAURABH MUKHTAR</td>\n",
       "      <td>M</td>\n",
       "      <td>70.0</td>\n",
       "      <td>1.0</td>\n",
       "      <td>145</td>\n",
       "      <td>274.0</td>\n",
       "      <td>0.0</td>\n",
       "      <td>1.0</td>\n",
       "      <td>125.0</td>\n",
       "      <td>...</td>\n",
       "      <td>165.0</td>\n",
       "      <td>NO</td>\n",
       "      <td>80-90</td>\n",
       "      <td>50-60</td>\n",
       "      <td>70-80</td>\n",
       "      <td>NaN</td>\n",
       "      <td>30-40</td>\n",
       "      <td>NaN</td>\n",
       "      <td>2.0</td>\n",
       "      <td>NaN</td>\n",
       "    </tr>\n",
       "    <tr>\n",
       "      <td>3</td>\n",
       "      <td>3216.0</td>\n",
       "      <td>ARJUN DESHMUKH</td>\n",
       "      <td>m</td>\n",
       "      <td>61.0</td>\n",
       "      <td>0.0</td>\n",
       "      <td>148</td>\n",
       "      <td>203.0</td>\n",
       "      <td>0.0</td>\n",
       "      <td>1.0</td>\n",
       "      <td>161.0</td>\n",
       "      <td>...</td>\n",
       "      <td>78.0</td>\n",
       "      <td>NO</td>\n",
       "      <td>40-50</td>\n",
       "      <td>50-60</td>\n",
       "      <td>70-80</td>\n",
       "      <td>40-50</td>\n",
       "      <td>NaN</td>\n",
       "      <td>NaN</td>\n",
       "      <td>1.0</td>\n",
       "      <td>NaN</td>\n",
       "    </tr>\n",
       "    <tr>\n",
       "      <td>4</td>\n",
       "      <td>1626.0</td>\n",
       "      <td>GAURI VAID</td>\n",
       "      <td>F</td>\n",
       "      <td>62.0</td>\n",
       "      <td>1.0</td>\n",
       "      <td>138</td>\n",
       "      <td>294.0</td>\n",
       "      <td>1.0</td>\n",
       "      <td>1.0</td>\n",
       "      <td>106.0</td>\n",
       "      <td>...</td>\n",
       "      <td>124.0</td>\n",
       "      <td>no</td>\n",
       "      <td>60-70</td>\n",
       "      <td>NaN</td>\n",
       "      <td>NaN</td>\n",
       "      <td>NaN</td>\n",
       "      <td>40-50</td>\n",
       "      <td>20-30</td>\n",
       "      <td>0.0</td>\n",
       "      <td>NaN</td>\n",
       "    </tr>\n",
       "  </tbody>\n",
       "</table>\n",
       "<p>5 rows × 26 columns</p>\n",
       "</div>"
      ],
      "text/plain": [
       "   patient number             Name sex   age  chest pain  \\\n",
       "0          1368.0   KESHAV PADHYAY   M  52.0         0.0   \n",
       "1          1877.0      VINOD NAIDU   M  53.0         0.0   \n",
       "2          4289.0  SAURABH MUKHTAR   M  70.0         1.0   \n",
       "3          3216.0   ARJUN DESHMUKH   m  61.0         0.0   \n",
       "4          1626.0       GAURI VAID   F  62.0         1.0   \n",
       "\n",
       "  resting blood pressure  cholestrol  fasting blood sugar  \\\n",
       "0                    125       212.0                  0.0   \n",
       "1                    140       203.0                  1.0   \n",
       "2                    145       274.0                  0.0   \n",
       "3                    148       203.0                  0.0   \n",
       "4                    138       294.0                  1.0   \n",
       "\n",
       "   resting electrocardiographic  maximum heart rate achieved  ... pulse rate  \\\n",
       "0                           1.0                        168.0  ...       91.0   \n",
       "1                           0.0                        155.0  ...       61.0   \n",
       "2                           1.0                        125.0  ...      165.0   \n",
       "3                           1.0                        161.0  ...       78.0   \n",
       "4                           1.0                        106.0  ...      124.0   \n",
       "\n",
       "   smoking  left anterior descending  circumflex artery right coronary artery  \\\n",
       "0      yes                     50-60                NaN                 80-90   \n",
       "1      YES                     70-80                NaN                 40-50   \n",
       "2       NO                     80-90              50-60                 70-80   \n",
       "3       NO                     40-50              50-60                 70-80   \n",
       "4       no                     60-70                NaN                   NaN   \n",
       "\n",
       "  obtuse marginal  left posterior descending artery left coronary artery  \\\n",
       "0           20-30                               NaN                30-40   \n",
       "1             NaN                               NaN                  NaN   \n",
       "2             NaN                             30-40                  NaN   \n",
       "3           40-50                               NaN                  NaN   \n",
       "4             NaN                             40-50                20-30   \n",
       "\n",
       "  stent Unnamed: 25  \n",
       "0   1.0         NaN  \n",
       "1   1.0         NaN  \n",
       "2   2.0         NaN  \n",
       "3   1.0         NaN  \n",
       "4   0.0         NaN  \n",
       "\n",
       "[5 rows x 26 columns]"
      ]
     },
     "execution_count": 1,
     "metadata": {},
     "output_type": "execute_result"
    }
   ],
   "source": [
    "#importing all the necessary libraries\n",
    "import  pandas as pd\n",
    "import numpy as np\n",
    "import seaborn as sns\n",
    "import matplotlib.pyplot as plt\n",
    "import math\n",
    "from sklearn import preprocessing \n",
    "from sklearn import linear_model\n",
    "from sklearn import model_selection\n",
    "from sklearn import feature_selection\n",
    "from sklearn import tree\n",
    "from sklearn import naive_bayes\n",
    "from sklearn import neighbors\n",
    "\n",
    "#loading the dataset\n",
    "data=pd.read_csv('dataset - dataset.csv')\n",
    "data.head()"
   ]
  },
  {
   "cell_type": "code",
   "execution_count": null,
   "metadata": {},
   "outputs": [],
   "source": [
    "\n"
   ]
  },
  {
   "cell_type": "code",
   "execution_count": 2,
   "metadata": {},
   "outputs": [
    {
     "name": "stdout",
     "output_type": "stream",
     "text": [
      "<class 'pandas.core.frame.DataFrame'>\n",
      "RangeIndex: 500 entries, 0 to 499\n",
      "Data columns (total 26 columns):\n",
      "patient number                      371 non-null float64\n",
      "Name                                492 non-null object\n",
      "sex                                 491 non-null object\n",
      "age                                 492 non-null float64\n",
      "chest pain                          473 non-null float64\n",
      "resting blood pressure              445 non-null object\n",
      "cholestrol                          441 non-null float64\n",
      "fasting blood sugar                 457 non-null float64\n",
      "resting electrocardiographic        456 non-null float64\n",
      "maximum heart rate achieved         460 non-null float64\n",
      "oldpeak                             455 non-null object\n",
      "slope                               390 non-null float64\n",
      "exang                               394 non-null float64\n",
      "body mass index                     500 non-null float64\n",
      "Admit Date                          372 non-null object\n",
      "Discharge Date                      372 non-null object\n",
      "pulse rate                          480 non-null float64\n",
      "smoking                             461 non-null object\n",
      "left anterior descending            417 non-null object\n",
      "circumflex artery                   184 non-null object\n",
      "right coronary artery               329 non-null object\n",
      "obtuse marginal                     171 non-null object\n",
      "left posterior descending artery    186 non-null object\n",
      "left coronary artery                170 non-null object\n",
      "stent                               492 non-null float64\n",
      "Unnamed: 25                         0 non-null float64\n",
      "dtypes: float64(13), object(13)\n",
      "memory usage: 101.7+ KB\n"
     ]
    }
   ],
   "source": [
    "#display the structure of the dataset\n",
    "data.info()"
   ]
  },
  {
   "cell_type": "code",
   "execution_count": 3,
   "metadata": {},
   "outputs": [
    {
     "data": {
      "text/plain": [
       "patient number                      129\n",
       "Name                                  8\n",
       "sex                                   9\n",
       "age                                   8\n",
       "chest pain                           27\n",
       "resting blood pressure               55\n",
       "cholestrol                           59\n",
       "fasting blood sugar                  43\n",
       "resting electrocardiographic         44\n",
       "maximum heart rate achieved          40\n",
       "oldpeak                              45\n",
       "slope                               110\n",
       "exang                               106\n",
       "body mass index                       0\n",
       "Admit Date                          128\n",
       "Discharge Date                      128\n",
       "pulse rate                           20\n",
       "smoking                              39\n",
       "left anterior descending             83\n",
       "circumflex artery                   316\n",
       "right coronary artery               171\n",
       "obtuse marginal                     329\n",
       "left posterior descending artery    314\n",
       "left coronary artery                330\n",
       "stent                                 8\n",
       "Unnamed: 25                         500\n",
       "dtype: int64"
      ]
     },
     "execution_count": 3,
     "metadata": {},
     "output_type": "execute_result"
    }
   ],
   "source": [
    "#finding the number of null values in each column\n",
    "data.isnull().sum()"
   ]
  },
  {
   "cell_type": "code",
   "execution_count": 4,
   "metadata": {},
   "outputs": [],
   "source": [
    "#replacing the column names as per our convenience\n",
    "df=data.rename(columns=({'patient number':'p_no','resting blood pressure':'rbp','cholestrol':'chol','fasting blood sugar':'fbs'\\\n",
    "                          ,'resting electrocardiographic':'recg','maximum heart rate achieved':'max_hrt','body mass index':'bmi'\\\n",
    "                         ,'Admit Date':'adm_dt','Discharge Date':'dis_dt','pulse rate':'pulse_rate','left anterior descending':'LAD','circumflex artery':'CA'\\\n",
    "                         ,'right coronary artery':'RCA','obtuse marginal':'OM','left posterior descending artery':'LPD'\\\n",
    "                         ,'left coronary artery':'LCA'}))"
   ]
  },
  {
   "cell_type": "code",
   "execution_count": 5,
   "metadata": {},
   "outputs": [
    {
     "name": "stdout",
     "output_type": "stream",
     "text": [
      "<class 'pandas.core.frame.DataFrame'>\n",
      "RangeIndex: 500 entries, 0 to 499\n",
      "Data columns (total 26 columns):\n",
      "p_no           371 non-null float64\n",
      "Name           492 non-null object\n",
      "sex            491 non-null object\n",
      "age            492 non-null float64\n",
      "chest pain     473 non-null float64\n",
      "rbp            445 non-null object\n",
      "chol           441 non-null float64\n",
      "fbs            457 non-null float64\n",
      "recg           456 non-null float64\n",
      "max_hrt        460 non-null float64\n",
      "oldpeak        455 non-null object\n",
      "slope          390 non-null float64\n",
      "exang          394 non-null float64\n",
      "bmi            500 non-null float64\n",
      "adm_dt         372 non-null object\n",
      "dis_dt         372 non-null object\n",
      "pulse_rate     480 non-null float64\n",
      "smoking        461 non-null object\n",
      "LAD            417 non-null object\n",
      "CA             184 non-null object\n",
      "RCA            329 non-null object\n",
      "OM             171 non-null object\n",
      "LPD            186 non-null object\n",
      "LCA            170 non-null object\n",
      "stent          492 non-null float64\n",
      "Unnamed: 25    0 non-null float64\n",
      "dtypes: float64(13), object(13)\n",
      "memory usage: 101.7+ KB\n"
     ]
    }
   ],
   "source": [
    "#displaying the structure to make sure that our column names have been successfully changed\n",
    "df.info()"
   ]
  },
  {
   "cell_type": "code",
   "execution_count": 6,
   "metadata": {},
   "outputs": [],
   "source": [
    "#convert all the values to uppercase\n",
    "df[\"sex\"]=df[\"sex\"].str.upper()"
   ]
  },
  {
   "cell_type": "code",
   "execution_count": 7,
   "metadata": {},
   "outputs": [
    {
     "data": {
      "text/plain": [
       "array(['M', 'F', nan], dtype=object)"
      ]
     },
     "execution_count": 7,
     "metadata": {},
     "output_type": "execute_result"
    }
   ],
   "source": [
    "#find out all the unique values of column 'sex'\n",
    "df['sex'].unique()"
   ]
  },
  {
   "cell_type": "code",
   "execution_count": 8,
   "metadata": {},
   "outputs": [],
   "source": [
    "#as all the data is in same foramt so there is no need of any change at this point"
   ]
  },
  {
   "cell_type": "code",
   "execution_count": 9,
   "metadata": {},
   "outputs": [
    {
     "data": {
      "text/plain": [
       "0.0    205\n",
       "2.0    150\n",
       "1.0     88\n",
       "3.0     30\n",
       "Name: chest pain, dtype: int64"
      ]
     },
     "execution_count": 9,
     "metadata": {},
     "output_type": "execute_result"
    }
   ],
   "source": [
    "#find out all the unique values of column 'chest pain' along with its frequency\n",
    "df['chest pain'].value_counts()"
   ]
  },
  {
   "cell_type": "code",
   "execution_count": 10,
   "metadata": {},
   "outputs": [],
   "source": [
    "#as all the data is in same foramt so there is no need of any change at this point"
   ]
  },
  {
   "cell_type": "code",
   "execution_count": 11,
   "metadata": {},
   "outputs": [
    {
     "data": {
      "text/plain": [
       "YES    166\n",
       "NO     142\n",
       "no      59\n",
       "yes     55\n",
       "Yes     18\n",
       "No      11\n",
       "yeS      3\n",
       "N0       2\n",
       "yEs      2\n",
       "n0       1\n",
       "YeS      1\n",
       ".        1\n",
       "Name: smoking, dtype: int64"
      ]
     },
     "execution_count": 11,
     "metadata": {},
     "output_type": "execute_result"
    }
   ],
   "source": [
    "#find out all the unique values of column 'smoking' along with its frequency\n",
    "df[\"smoking\"].value_counts()"
   ]
  },
  {
   "cell_type": "code",
   "execution_count": 12,
   "metadata": {},
   "outputs": [],
   "source": [
    "#as the data was incosistent,we converted all the entries to upper case\n",
    "df[\"smoking\"]=df[\"smoking\"].str.upper()"
   ]
  },
  {
   "cell_type": "code",
   "execution_count": 13,
   "metadata": {},
   "outputs": [
    {
     "data": {
      "text/plain": [
       "YES    245\n",
       "NO     212\n",
       "N0       3\n",
       ".        1\n",
       "Name: smoking, dtype: int64"
      ]
     },
     "execution_count": 13,
     "metadata": {},
     "output_type": "execute_result"
    }
   ],
   "source": [
    "#find out all the unique values of column 'smoking' along with its frequency\n",
    "df[\"smoking\"].value_counts()"
   ]
  },
  {
   "cell_type": "code",
   "execution_count": 14,
   "metadata": {},
   "outputs": [],
   "source": [
    "#as the data is still inconsistent,we made the required changes\n",
    "df['smoking']=df['smoking'].replace({\"N0\":\"NO\",'.':'NO'})"
   ]
  },
  {
   "cell_type": "code",
   "execution_count": 15,
   "metadata": {},
   "outputs": [
    {
     "data": {
      "text/plain": [
       "YES    245\n",
       "NO     216\n",
       "Name: smoking, dtype: int64"
      ]
     },
     "execution_count": 15,
     "metadata": {},
     "output_type": "execute_result"
    }
   ],
   "source": [
    "df[\"smoking\"].value_counts()"
   ]
  },
  {
   "cell_type": "code",
   "execution_count": 16,
   "metadata": {},
   "outputs": [],
   "source": [
    "#now the data of column 'smoking' is consistent"
   ]
  },
  {
   "cell_type": "code",
   "execution_count": 17,
   "metadata": {},
   "outputs": [
    {
     "data": {
      "text/plain": [
       "array([52., 53., 70., 61., 62., 58., 63., 55., 46., 54., 71., 43., 34.,\n",
       "       51., 50., 60., 67., 45., 42., 44., 56., 57., 59., 64., 65., 41.,\n",
       "       66., 38., 49., 48., 29., 37., 47., 68., 76., 40., 39., 77., 69.,\n",
       "       35., 74., nan])"
      ]
     },
     "execution_count": 17,
     "metadata": {},
     "output_type": "execute_result"
    }
   ],
   "source": [
    "#find out all the unique values of column 'age' \n",
    "df['age'].unique()"
   ]
  },
  {
   "cell_type": "code",
   "execution_count": 18,
   "metadata": {},
   "outputs": [],
   "source": [
    "#as all the data is in same foramt so there is no need of any change at this point"
   ]
  },
  {
   "cell_type": "code",
   "execution_count": 19,
   "metadata": {},
   "outputs": [
    {
     "data": {
      "text/plain": [
       "130    53\n",
       "120    50\n",
       "140    40\n",
       "110    31\n",
       "150    31\n",
       "160    21\n",
       "138    19\n",
       "128    17\n",
       "132    15\n",
       "125    14\n",
       "118    12\n",
       "124    10\n",
       "152     9\n",
       "122     8\n",
       "170     8\n",
       "112     8\n",
       "108     8\n",
       "134     7\n",
       "100     7\n",
       "135     6\n",
       "146     5\n",
       "145     5\n",
       "115     4\n",
       "142     4\n",
       "136     4\n",
       "126     4\n",
       "178     3\n",
       "94      3\n",
       "192     3\n",
       "144     3\n",
       "105     3\n",
       "148     3\n",
       "165     2\n",
       "117     2\n",
       "200     2\n",
       "102     2\n",
       "114     2\n",
       "174     2\n",
       "123     2\n",
       "180     2\n",
       "129     2\n",
       "104     2\n",
       "106     1\n",
       "ca      1\n",
       "164     1\n",
       "230     1\n",
       "155     1\n",
       "154     1\n",
       "172     1\n",
       "Name: rbp, dtype: int64"
      ]
     },
     "execution_count": 19,
     "metadata": {},
     "output_type": "execute_result"
    }
   ],
   "source": [
    "#find out all the unique values of column 'rbp' along with its frequency\n",
    "df[\"rbp\"].value_counts()"
   ]
  },
  {
   "cell_type": "code",
   "execution_count": 20,
   "metadata": {},
   "outputs": [],
   "source": [
    "#as the data is inconsistent,we made the required changes\n",
    "df['rbp']=df['rbp'].replace({\"ca\":\"NaN\"})"
   ]
  },
  {
   "cell_type": "code",
   "execution_count": 21,
   "metadata": {},
   "outputs": [
    {
     "data": {
      "text/plain": [
       "array(['125', '140', '145', '148', '138', '100', '114', '160', '120',\n",
       "       '122', '112', '132', '118', '128', '124', '106', '104', '135',\n",
       "       '130', '136', '180', '129', '150', '178', '146', '117', '152',\n",
       "       '154', '170', '134', '174', '144', '108', '123', '110', '142',\n",
       "       '126', nan, '230', '192', '115', '94', '200', '165', '102', '105',\n",
       "       'NaN', '155', '172', '164'], dtype=object)"
      ]
     },
     "execution_count": 21,
     "metadata": {},
     "output_type": "execute_result"
    }
   ],
   "source": [
    "#find out all the unique values of column 'rbp' ato make sure that our changes are made\n",
    "df['rbp'].unique()"
   ]
  },
  {
   "cell_type": "code",
   "execution_count": 22,
   "metadata": {},
   "outputs": [
    {
     "data": {
      "text/plain": [
       "array([212., 203., 274., 294., 248., 318., 289., 249., 286., 149., 341.,\n",
       "       210., 280., 204., 308., 266., 244., 211., 185., 223., 208., 252.,\n",
       "       209., 307., 233., 319., 256., 327., 169., 131., 269., 196., 231.,\n",
       "       213., 271., 263., 229., 360., 258., 330., 342., 226., 228., 278.,\n",
       "        nan, 283., 241., 175., 188., 217., 193., 245., 232., 288., 197.,\n",
       "       315., 215., 164., 326., 207., 177., 257., 255., 187., 201., 220.,\n",
       "       268., 267., 236., 303., 282., 126., 309., 186., 275., 299., 281.,\n",
       "       206., 335., 218., 254., 295., 260., 240., 302., 192., 225., 325.,\n",
       "       235., 234., 182., 167., 172., 298., 321., 300., 199., 157., 304.,\n",
       "       222., 184., 136., 160., 247., 239., 246., 109., 180., 250., 221.,\n",
       "       104., 200., 227., 178., 243., 261., 242., 205., 306., 230., 144.,\n",
       "       219., 353., 198., 194., 183., 237., 224., 265., 123., 270., 163.,\n",
       "       216., 276., 322., 214., 273., 253., 176., 354., 305., 168., 564.,\n",
       "       313.])"
      ]
     },
     "execution_count": 22,
     "metadata": {},
     "output_type": "execute_result"
    }
   ],
   "source": [
    "#find out all the unique values of column 'chol'\n",
    "df['chol'].unique()"
   ]
  },
  {
   "cell_type": "code",
   "execution_count": 23,
   "metadata": {},
   "outputs": [],
   "source": [
    "#as all the data is in same foramt so there is no need of any change at this point"
   ]
  },
  {
   "cell_type": "code",
   "execution_count": 24,
   "metadata": {},
   "outputs": [
    {
     "data": {
      "text/plain": [
       "0.0    383\n",
       "1.0     74\n",
       "Name: fbs, dtype: int64"
      ]
     },
     "execution_count": 24,
     "metadata": {},
     "output_type": "execute_result"
    }
   ],
   "source": [
    "#find out all the unique values of column 'fbs' along with its frequency\n",
    "df[\"fbs\"].value_counts()"
   ]
  },
  {
   "cell_type": "code",
   "execution_count": 25,
   "metadata": {},
   "outputs": [],
   "source": [
    "#as all the data is in same foramt so there is no need of any change at this point"
   ]
  },
  {
   "cell_type": "code",
   "execution_count": 26,
   "metadata": {},
   "outputs": [
    {
     "data": {
      "text/plain": [
       "0.0    242\n",
       "1.0    210\n",
       "2.0      4\n",
       "Name: recg, dtype: int64"
      ]
     },
     "execution_count": 26,
     "metadata": {},
     "output_type": "execute_result"
    }
   ],
   "source": [
    "#find out all the unique values of column 'recg' along with its frequency\n",
    "df[\"recg\"].value_counts()"
   ]
  },
  {
   "cell_type": "code",
   "execution_count": 27,
   "metadata": {},
   "outputs": [],
   "source": [
    "#as all the data is in same foramt so there is no need of any change at this point"
   ]
  },
  {
   "cell_type": "code",
   "execution_count": 28,
   "metadata": {},
   "outputs": [
    {
     "data": {
      "text/plain": [
       "173.0    19\n",
       "162.0    16\n",
       "152.0    15\n",
       "150.0    14\n",
       "144.0    14\n",
       "         ..\n",
       "99.0      1\n",
       "117.0     1\n",
       "194.0     1\n",
       "185.0     1\n",
       "129.0     1\n",
       "Name: max_hrt, Length: 90, dtype: int64"
      ]
     },
     "execution_count": 28,
     "metadata": {},
     "output_type": "execute_result"
    }
   ],
   "source": [
    "#find out all the unique values of column 'max_hrt' along with its frequency\n",
    "df[\"max_hrt\"].value_counts()"
   ]
  },
  {
   "cell_type": "code",
   "execution_count": 29,
   "metadata": {},
   "outputs": [],
   "source": [
    "#as all the data is in same foramt so there is no need of any change at this point"
   ]
  },
  {
   "cell_type": "code",
   "execution_count": 30,
   "metadata": {},
   "outputs": [
    {
     "data": {
      "text/plain": [
       "0     300\n",
       "1     154\n",
       "\\n      1\n",
       "Name: oldpeak, dtype: int64"
      ]
     },
     "execution_count": 30,
     "metadata": {},
     "output_type": "execute_result"
    }
   ],
   "source": [
    "#find out all the unique values of column 'oldpeak' along with its frequency\n",
    "df[\"oldpeak\"].value_counts()"
   ]
  },
  {
   "cell_type": "code",
   "execution_count": 31,
   "metadata": {},
   "outputs": [],
   "source": [
    "#as the data is not in same format,we made the necessary changes"
   ]
  },
  {
   "cell_type": "code",
   "execution_count": 32,
   "metadata": {},
   "outputs": [],
   "source": [
    "df['oldpeak']=df['oldpeak'].replace({\"\\n\":\"1\"})"
   ]
  },
  {
   "cell_type": "code",
   "execution_count": 33,
   "metadata": {},
   "outputs": [
    {
     "data": {
      "text/plain": [
       "0    300\n",
       "1    155\n",
       "Name: oldpeak, dtype: int64"
      ]
     },
     "execution_count": 33,
     "metadata": {},
     "output_type": "execute_result"
    }
   ],
   "source": [
    "#find out all the unique values of column 'oldpeak' along with its frequency to make sure that the necessary changes are done\n",
    "df[\"oldpeak\"].value_counts()"
   ]
  },
  {
   "cell_type": "code",
   "execution_count": 34,
   "metadata": {},
   "outputs": [
    {
     "data": {
      "text/plain": [
       "array([1. , 3.1, 2.6, 0. , 1.9, 4.4, 0.8, 3.2, 1.6, 3. , 0.7, 4.2, 1.5,\n",
       "       2.2, 1.1, 0.3, 0.4, 0.6, 3.4, 2.8, 1.2, 2.9, 3.6, 1.4, 0.2, 2. ,\n",
       "       5.6, 0.9, 1.8, 6.2, 4. , nan, 2.5, 0.1, 0.5, 2.1, 3.8, 2.3, 1.3,\n",
       "       2.4, 3.5])"
      ]
     },
     "execution_count": 34,
     "metadata": {},
     "output_type": "execute_result"
    }
   ],
   "source": [
    "#find out all the unique values of column 'slope' \n",
    "df['slope'].unique()"
   ]
  },
  {
   "cell_type": "code",
   "execution_count": 35,
   "metadata": {},
   "outputs": [],
   "source": [
    "#as all the data is in same foramt so there is no need of any change at this point"
   ]
  },
  {
   "cell_type": "code",
   "execution_count": 36,
   "metadata": {},
   "outputs": [
    {
     "data": {
      "text/plain": [
       "2.0    185\n",
       "1.0    182\n",
       "0.0     27\n",
       "Name: exang, dtype: int64"
      ]
     },
     "execution_count": 36,
     "metadata": {},
     "output_type": "execute_result"
    }
   ],
   "source": [
    "#find out all the unique values of column 'exang' along with its frequency\n",
    "df[\"exang\"].value_counts()"
   ]
  },
  {
   "cell_type": "code",
   "execution_count": 37,
   "metadata": {},
   "outputs": [],
   "source": [
    "#as all the data is in same foramt so there is no need of any change at this point"
   ]
  },
  {
   "cell_type": "code",
   "execution_count": 38,
   "metadata": {},
   "outputs": [
    {
     "data": {
      "text/plain": [
       "array([22.3 , 50.53, 47.49, 23.26, 42.37, 20.64, 33.29, 19.09, 45.99,\n",
       "       31.85, 43.63, 38.73, 28.05, 48.84, 27.1 , 45.69, 21.79, 22.46,\n",
       "       30.6 , 23.33, 28.48, 24.6 , 32.14, 37.96, 39.85, 45.12, 31.52,\n",
       "       20.09, 21.36, 19.75, 48.72, 50.4 , 20.18, 39.21, 24.7 , 52.55,\n",
       "       29.1 , 28.46, 34.78, 20.84, 19.49, 50.54, 43.76, 34.96, 19.81,\n",
       "       47.13, 34.46, 47.58, 24.71, 23.46, 24.78, 37.28, 41.91, 40.17,\n",
       "       45.61, 24.86, 53.34, 31.22, 26.58, 19.9 , 24.37, 39.56, 52.59,\n",
       "       46.71, 53.4 , 52.15, 22.35, 25.42, 32.46, 45.39, 30.29, 24.69,\n",
       "       26.7 , 48.36, 42.92, 48.47, 35.58, 33.51, 51.9 , 27.84, 32.57,\n",
       "       20.53, 24.65, 40.31, 30.45, 30.32, 29.82, 36.12, 41.65, 41.39,\n",
       "       31.53, 34.02, 19.83, 36.45, 45.85, 46.65, 30.25, 19.3 , 27.21,\n",
       "       37.9 , 27.92, 42.2 , 53.29, 33.65, 47.73, 23.63, 51.08, 42.47,\n",
       "       41.71, 41.74, 26.97, 52.28, 23.07, 49.92, 42.17, 25.05, 26.8 ,\n",
       "       50.1 , 45.18, 46.43, 31.61, 45.88, 36.71, 48.38, 50.48, 25.85,\n",
       "       46.54, 24.49, 23.09, 29.2 , 44.05, 49.06, 28.49, 25.35, 21.4 ,\n",
       "       35.77, 27.31, 37.99, 52.05, 30.5 , 23.05, 29.29, 25.41, 21.63,\n",
       "       25.26, 47.9 , 23.  , 20.55, 21.  , 27.69, 30.28, 20.3 , 19.79,\n",
       "       21.47, 21.19, 22.96, 40.47, 23.73, 38.29, 52.25, 42.76, 27.48,\n",
       "       23.43, 43.9 , 50.14, 29.81, 47.29, 48.26, 42.26, 43.49, 33.69,\n",
       "       28.81, 23.29, 41.  , 39.33, 22.51, 49.14, 45.46, 50.15, 33.64,\n",
       "       42.98, 26.89, 27.32, 23.74, 30.23, 30.64, 50.62, 23.2 , 24.04,\n",
       "       25.45, 49.95, 51.13, 45.45, 43.8 , 35.16, 30.73, 20.14, 32.66,\n",
       "       53.84, 37.26, 36.3 , 48.07, 43.48, 43.23, 49.82, 52.63, 30.22,\n",
       "       41.79, 31.23, 21.59, 43.73, 42.19, 46.27, 37.17, 22.03, 21.46,\n",
       "       21.33, 23.87, 26.94, 41.46, 37.  , 34.53, 21.81, 36.8 , 33.99,\n",
       "       53.19, 47.26, 44.1 , 19.4 , 43.11, 41.85, 31.96, 31.76, 20.19,\n",
       "       32.08, 31.57, 27.  , 48.31, 35.93, 34.4 , 39.51, 29.13, 30.65,\n",
       "       33.97, 22.19, 53.61, 38.09, 52.2 , 30.39, 43.74, 46.66, 35.09,\n",
       "       29.06, 53.37, 38.81, 46.78, 40.84, 34.6 , 46.62, 50.64, 34.68,\n",
       "       34.01, 26.72, 40.8 , 37.97, 41.53, 25.03, 34.32, 50.99, 49.25,\n",
       "       20.71, 53.88, 24.56, 31.13, 46.35, 38.69, 21.21, 43.39, 40.73,\n",
       "       20.78, 37.5 , 36.62, 39.54, 45.67, 46.29, 35.86, 28.22, 42.13,\n",
       "       46.01, 44.4 , 48.64, 42.62, 40.97, 31.1 , 43.21, 31.72, 48.25,\n",
       "       50.06, 22.13, 36.18, 31.91, 37.39, 37.52, 49.27, 20.25, 39.72,\n",
       "       44.13, 42.48, 39.58, 33.08, 20.99, 20.4 , 47.65, 27.65, 45.35,\n",
       "       50.85, 43.83, 53.47, 43.89, 52.92, 51.4 , 50.33, 49.39, 19.93,\n",
       "       27.36, 50.5 , 48.22, 38.74, 34.81, 24.2 , 31.31, 44.7 , 34.57,\n",
       "       32.68, 41.92, 20.31, 43.97, 44.84, 40.59, 48.78, 27.68, 53.64,\n",
       "       42.02, 35.57, 31.04, 32.85, 47.21, 24.91, 44.18, 53.16, 31.5 ,\n",
       "       41.14, 32.4 , 50.02, 43.95, 39.97, 29.48, 45.07, 36.16, 50.96,\n",
       "       19.86, 28.45, 34.29, 32.6 , 25.43, 44.04, 29.78, 46.22, 32.51,\n",
       "       25.36, 19.85, 32.77, 33.41, 47.17, 31.27, 46.81, 33.57, 19.89,\n",
       "       47.86, 39.83, 39.32, 28.04, 52.6 , 43.58, 48.46, 36.91, 25.54,\n",
       "       46.48, 52.49, 34.84, 52.78, 42.97, 52.42, 25.09, 33.74, 42.33,\n",
       "       51.95, 39.4 , 44.58, 51.75, 23.77, 41.55, 22.17, 51.84, 37.95,\n",
       "       43.26, 35.88, 44.51, 40.79, 43.37, 30.62, 30.21, 28.86, 21.31,\n",
       "       37.62, 26.47, 38.4 , 30.34, 43.45, 51.28, 43.  , 29.87, 37.32,\n",
       "       49.23, 29.52, 19.76, 21.48, 23.96, 28.29, 46.37, 49.73, 23.61,\n",
       "       48.97, 36.81, 50.79, 32.89, 23.88, 49.53, 50.47, 40.9 , 36.32,\n",
       "       27.44, 23.85, 43.36, 35.43, 37.78, 45.89, 22.59, 37.1 , 24.88,\n",
       "       23.45, 47.02, 45.87, 23.27, 40.58, 42.7 , 41.81, 27.51, 48.52,\n",
       "       49.54, 46.67, 39.99, 33.01, 32.35, 51.32, 39.55, 47.22, 46.6 ])"
      ]
     },
     "execution_count": 38,
     "metadata": {},
     "output_type": "execute_result"
    }
   ],
   "source": [
    "#find out all the unique values of column 'bmi' \n",
    "df['bmi'].unique()"
   ]
  },
  {
   "cell_type": "code",
   "execution_count": 39,
   "metadata": {},
   "outputs": [],
   "source": [
    "#as all the data is in same foramt so there is no need of any change at this point"
   ]
  },
  {
   "cell_type": "code",
   "execution_count": 40,
   "metadata": {},
   "outputs": [
    {
     "data": {
      "text/plain": [
       "array([ 91.,  61., 165.,  78., 124., 154.,  86.,  69., 125., 164., 114.,\n",
       "       170., 105., 126.,  70., 101.,  64., 172., 151., 155.,  93., 168.,\n",
       "       129., 100.,  66., 179.,  71., 133., 161., 163., 146., 109., 173.,\n",
       "       157., 118., 138.,  84.,  99., 111., 123., 158., 147.,  85., 156.,\n",
       "       167., 128., 121., 110.,  79.,  80.,  94., 102.,  68., 106., 130.,\n",
       "        89., 131., 175., 177., 127.,  81., 119., 116.,  98., 113.,  83.,\n",
       "       132., 122.,  73., 166., 142.,  87.,  96., 174.,  nan,  75., 145.,\n",
       "        77., 178., 141.,  76., 115.,  63., 169.,  82., 136., 135., 171.,\n",
       "       112., 104., 140., 149.,  95.,  67.,  72., 150., 159.,  92., 143.,\n",
       "       153.,  97., 103.,  65., 134.,  90.,  88., 152., 160.,  60., 144.,\n",
       "       180., 162., 108., 176., 120., 139., 107., 148., 137., 117.])"
      ]
     },
     "execution_count": 40,
     "metadata": {},
     "output_type": "execute_result"
    }
   ],
   "source": [
    "#find out all the unique values of column 'smoking' along with its frequency\n",
    "df['pulse_rate'].unique()"
   ]
  },
  {
   "cell_type": "code",
   "execution_count": 41,
   "metadata": {},
   "outputs": [],
   "source": [
    "#as all the data is in same foramt so there is no need of any change at this point"
   ]
  },
  {
   "cell_type": "code",
   "execution_count": 42,
   "metadata": {},
   "outputs": [
    {
     "data": {
      "text/plain": [
       "70-80     182\n",
       "60-70      77\n",
       "80-90      60\n",
       "50-60      38\n",
       "40-50      34\n",
       "30-40      22\n",
       "20-30       3\n",
       "Oct-20      1\n",
       "Name: LAD, dtype: int64"
      ]
     },
     "execution_count": 42,
     "metadata": {},
     "output_type": "execute_result"
    }
   ],
   "source": [
    "#find out all the unique values of column 'LAD' along with its frequency\n",
    "df['LAD'].value_counts()"
   ]
  },
  {
   "cell_type": "code",
   "execution_count": 43,
   "metadata": {},
   "outputs": [],
   "source": [
    "#as the data was inconsistent,we made the necessary changes\n",
    "df['LAD']=df['LAD'].replace({\"Oct-20\":\"10-20\"})"
   ]
  },
  {
   "cell_type": "code",
   "execution_count": 44,
   "metadata": {},
   "outputs": [
    {
     "data": {
      "text/plain": [
       "70-80    182\n",
       "60-70     77\n",
       "80-90     60\n",
       "50-60     38\n",
       "40-50     34\n",
       "30-40     22\n",
       "20-30      3\n",
       "10-20      1\n",
       "Name: LAD, dtype: int64"
      ]
     },
     "execution_count": 44,
     "metadata": {},
     "output_type": "execute_result"
    }
   ],
   "source": [
    "#find out all the unique values of column 'LAD' along with its frequency to make sure that the required changes are done\n",
    "df['LAD'].value_counts()"
   ]
  },
  {
   "cell_type": "code",
   "execution_count": 45,
   "metadata": {},
   "outputs": [
    {
     "data": {
      "text/plain": [
       "40-50     51\n",
       "30-40     36\n",
       "70-80     31\n",
       "20-30     28\n",
       "50-60     19\n",
       "60-70     11\n",
       "80-90      7\n",
       "Oct-20     1\n",
       "Name: CA, dtype: int64"
      ]
     },
     "execution_count": 45,
     "metadata": {},
     "output_type": "execute_result"
    }
   ],
   "source": [
    "#find out all the unique values of column 'CA' along with its frequency\n",
    "df['CA'].value_counts()"
   ]
  },
  {
   "cell_type": "code",
   "execution_count": 46,
   "metadata": {},
   "outputs": [],
   "source": [
    "#as the data was inconsistent,we made the necessary changes\n",
    "df['CA']=df['CA'].replace({\"Oct-20\":\"10-20\"})"
   ]
  },
  {
   "cell_type": "code",
   "execution_count": 47,
   "metadata": {},
   "outputs": [
    {
     "data": {
      "text/plain": [
       "40-50    51\n",
       "30-40    36\n",
       "70-80    31\n",
       "20-30    28\n",
       "50-60    19\n",
       "60-70    11\n",
       "80-90     7\n",
       "10-20     1\n",
       "Name: CA, dtype: int64"
      ]
     },
     "execution_count": 47,
     "metadata": {},
     "output_type": "execute_result"
    }
   ],
   "source": [
    "#find out all the unique values of column 'CA' along with its frequency to make sure that the required changes are done\n",
    "df['CA'].value_counts()"
   ]
  },
  {
   "cell_type": "code",
   "execution_count": 48,
   "metadata": {},
   "outputs": [
    {
     "data": {
      "text/plain": [
       "70-80     96\n",
       "40-50     56\n",
       "60-70     46\n",
       "30-40     46\n",
       "50-60     32\n",
       "80-90     25\n",
       "20-30     25\n",
       "Oct-20     3\n",
       "Name: RCA, dtype: int64"
      ]
     },
     "execution_count": 48,
     "metadata": {},
     "output_type": "execute_result"
    }
   ],
   "source": [
    "#find out all the unique values of column 'RCA' along with its frequency\n",
    "df['RCA'].value_counts()"
   ]
  },
  {
   "cell_type": "code",
   "execution_count": 49,
   "metadata": {},
   "outputs": [],
   "source": [
    "#as the data was inconsistent,we made the necessary changes\n",
    "df['RCA']=df['RCA'].replace({\"Oct-20\":\"10-20\"})"
   ]
  },
  {
   "cell_type": "code",
   "execution_count": 50,
   "metadata": {},
   "outputs": [
    {
     "data": {
      "text/plain": [
       "70-80    96\n",
       "40-50    56\n",
       "60-70    46\n",
       "30-40    46\n",
       "50-60    32\n",
       "80-90    25\n",
       "20-30    25\n",
       "10-20     3\n",
       "Name: RCA, dtype: int64"
      ]
     },
     "execution_count": 50,
     "metadata": {},
     "output_type": "execute_result"
    }
   ],
   "source": [
    "#find out all the unique values of column 'RCA' along with its frequency to make sure that the required changes are done\n",
    "df['RCA'].value_counts()"
   ]
  },
  {
   "cell_type": "code",
   "execution_count": 51,
   "metadata": {},
   "outputs": [
    {
     "data": {
      "text/plain": [
       "40-50     53\n",
       "30-40     50\n",
       "20-30     26\n",
       "50-60     17\n",
       "70-80      9\n",
       "60-70      7\n",
       "Oct-20     5\n",
       "80-90      2\n",
       "50-40      1\n",
       "40         1\n",
       "Name: OM, dtype: int64"
      ]
     },
     "execution_count": 51,
     "metadata": {},
     "output_type": "execute_result"
    }
   ],
   "source": [
    "#find out all the unique values of column 'OM' along with its frequency\n",
    "df['OM'].value_counts()"
   ]
  },
  {
   "cell_type": "code",
   "execution_count": 52,
   "metadata": {},
   "outputs": [
    {
     "data": {
      "text/plain": [
       "40-50    54\n",
       "30-40    50\n",
       "20-30    26\n",
       "50-60    17\n",
       "70-80     9\n",
       "60-70     7\n",
       "10-20     5\n",
       "80-90     2\n",
       "50-40     1\n",
       "Name: OM, dtype: int64"
      ]
     },
     "execution_count": 52,
     "metadata": {},
     "output_type": "execute_result"
    }
   ],
   "source": [
    "#as the data was inconsistent,we made the necessary changes\n",
    "df['OM']=df['OM'].replace({\"Oct-20\":\"10-20\",\"40\":\"40-50\"})\n",
    "#find out all the unique values of column 'OM' along with its frequency to make sure that the required changes are done\n",
    "df['OM'].value_counts()"
   ]
  },
  {
   "cell_type": "code",
   "execution_count": 53,
   "metadata": {},
   "outputs": [
    {
     "data": {
      "text/plain": [
       "40-50     61\n",
       "30-40     54\n",
       "20-30     45\n",
       "60-70      9\n",
       "50-60      8\n",
       "Oct-20     5\n",
       "70-80      4\n",
       "Name: LPD, dtype: int64"
      ]
     },
     "execution_count": 53,
     "metadata": {},
     "output_type": "execute_result"
    }
   ],
   "source": [
    "#find out all the unique values of column 'LPD' along with its frequency\n",
    "df['LPD'].value_counts()"
   ]
  },
  {
   "cell_type": "code",
   "execution_count": 54,
   "metadata": {},
   "outputs": [
    {
     "data": {
      "text/plain": [
       "40-50    61\n",
       "30-40    54\n",
       "20-30    45\n",
       "60-70     9\n",
       "50-60     8\n",
       "10-20     5\n",
       "70-80     4\n",
       "Name: LPD, dtype: int64"
      ]
     },
     "execution_count": 54,
     "metadata": {},
     "output_type": "execute_result"
    }
   ],
   "source": [
    "#as the data was inconsistent,we made the necessary changes\n",
    "df['LPD']=df['LPD'].replace({\"Oct-20\":\"10-20\"})\n",
    "#find out all the unique values of column 'LPD' along with its frequency to make sure that the required changes are done\n",
    "df['LPD'].value_counts()\n"
   ]
  },
  {
   "cell_type": "code",
   "execution_count": 55,
   "metadata": {},
   "outputs": [
    {
     "data": {
      "text/plain": [
       "30-40     50\n",
       "40-50     49\n",
       "20-30     49\n",
       "50-60     14\n",
       "60-70      4\n",
       "Oct-20     2\n",
       "40-30      1\n",
       "70-80      1\n",
       "Name: LCA, dtype: int64"
      ]
     },
     "execution_count": 55,
     "metadata": {},
     "output_type": "execute_result"
    }
   ],
   "source": [
    "#find out all the unique values of column 'LCA' along with its frequency\n",
    "df['LCA'].value_counts()"
   ]
  },
  {
   "cell_type": "code",
   "execution_count": 56,
   "metadata": {},
   "outputs": [
    {
     "data": {
      "text/plain": [
       "30-40    50\n",
       "40-50    49\n",
       "20-30    49\n",
       "50-60    14\n",
       "60-70     4\n",
       "10-20     2\n",
       "40-30     1\n",
       "70-80     1\n",
       "Name: LCA, dtype: int64"
      ]
     },
     "execution_count": 56,
     "metadata": {},
     "output_type": "execute_result"
    }
   ],
   "source": [
    "#as the data was inconsistent,we made the necessary changes\n",
    "df['LCA']=df['LCA'].replace({\"Oct-20\":\"10-20\"})\n",
    "#find out all the unique values of column 'LCA' along with its frequency to make sure that the required changes are done\n",
    "df['LCA'].value_counts()"
   ]
  },
  {
   "cell_type": "code",
   "execution_count": 57,
   "metadata": {},
   "outputs": [
    {
     "data": {
      "text/plain": [
       "1.0    234\n",
       "0.0    176\n",
       "2.0     70\n",
       "3.0     12\n",
       "Name: stent, dtype: int64"
      ]
     },
     "execution_count": 57,
     "metadata": {},
     "output_type": "execute_result"
    }
   ],
   "source": [
    "#find out all the unique values of column 'LCA' along with its frequency\n",
    "df['stent'].value_counts()"
   ]
  },
  {
   "cell_type": "code",
   "execution_count": 58,
   "metadata": {},
   "outputs": [
    {
     "data": {
      "text/plain": [
       "<matplotlib.axes._subplots.AxesSubplot at 0x29924d0df48>"
      ]
     },
     "execution_count": 58,
     "metadata": {},
     "output_type": "execute_result"
    },
    {
     "data": {
      "image/png": "[encoded data removed]",
      "text/plain": [
       "<Figure size 432x288 with 1 Axes>"
      ]
     },
     "metadata": {
      "needs_background": "light"
     },
     "output_type": "display_data"
    }
   ],
   "source": [
    "#graphical representation of our data\n",
    "sns.countplot(x='stent',data=df)"
   ]
  },
  {
   "cell_type": "code",
   "execution_count": 59,
   "metadata": {},
   "outputs": [
    {
     "data": {
      "text/plain": [
       "<matplotlib.axes._subplots.AxesSubplot at 0x2992501c708>"
      ]
     },
     "execution_count": 59,
     "metadata": {},
     "output_type": "execute_result"
    },
    {
     "data": {
      "image/png": "[encoded data removed]",
      "text/plain": [
       "<Figure size 432x288 with 1 Axes>"
      ]
     },
     "metadata": {
      "needs_background": "light"
     },
     "output_type": "display_data"
    }
   ],
   "source": [
    "#graphical representation to show the effect of 'sex' on the no of 'stents'\n",
    "sns.countplot(x='sex',hue='stent',data=df)"
   ]
  },
  {
   "cell_type": "code",
   "execution_count": 60,
   "metadata": {},
   "outputs": [
    {
     "data": {
      "text/plain": [
       "<matplotlib.axes._subplots.AxesSubplot at 0x299250ad4c8>"
      ]
     },
     "execution_count": 60,
     "metadata": {},
     "output_type": "execute_result"
    },
    {
     "data": {
      "image/png": "[encoded data removed]",
      "text/plain": [
       "<Figure size 432x288 with 1 Axes>"
      ]
     },
     "metadata": {
      "needs_background": "light"
     },
     "output_type": "display_data"
    }
   ],
   "source": [
    "#graphical representation to show the effect of 'age' on the no of 'stents'\n",
    "sns.countplot(x='age',hue='stent',data=df)"
   ]
  },
  {
   "cell_type": "code",
   "execution_count": 61,
   "metadata": {},
   "outputs": [
    {
     "data": {
      "text/plain": [
       "<matplotlib.axes._subplots.AxesSubplot at 0x299250ad308>"
      ]
     },
     "execution_count": 61,
     "metadata": {},
     "output_type": "execute_result"
    },
    {
     "data": {
      "image/png": "[encoded data removed]",
      "text/plain": [
       "<Figure size 432x288 with 1 Axes>"
      ]
     },
     "metadata": {
      "needs_background": "light"
     },
     "output_type": "display_data"
    }
   ],
   "source": [
    "#graphical representation to show the effect of 'chest pain' on the no of 'stents'\n",
    "sns.countplot(x='chest pain',hue='stent',data=df)"
   ]
  },
  {
   "cell_type": "code",
   "execution_count": 62,
   "metadata": {},
   "outputs": [
    {
     "data": {
      "text/plain": [
       "<matplotlib.axes._subplots.AxesSubplot at 0x299253450c8>"
      ]
     },
     "execution_count": 62,
     "metadata": {},
     "output_type": "execute_result"
    },
    {
     "data": {
      "image/png": "[encoded data removed]",
      "text/plain": [
       "<Figure size 432x288 with 1 Axes>"
      ]
     },
     "metadata": {
      "needs_background": "light"
     },
     "output_type": "display_data"
    }
   ],
   "source": [
    "#graphical representation to show the effect of 'rbp' on the no of 'stents'\n",
    "sns.countplot(x='rbp',hue='stent',data=df)"
   ]
  },
  {
   "cell_type": "code",
   "execution_count": 63,
   "metadata": {},
   "outputs": [
    {
     "data": {
      "text/plain": [
       "<matplotlib.axes._subplots.AxesSubplot at 0x299252a4348>"
      ]
     },
     "execution_count": 63,
     "metadata": {},
     "output_type": "execute_result"
    },
    {
     "data": {
      "image/png": "[encoded data removed]",
      "text/plain": [
       "<Figure size 432x288 with 1 Axes>"
      ]
     },
     "metadata": {
      "needs_background": "light"
     },
     "output_type": "display_data"
    }
   ],
   "source": [
    "#graphical representation to show the effect of 'chol' on the no of 'stents'\n",
    "sns.countplot(x='chol',hue='stent',data=df)"
   ]
  },
  {
   "cell_type": "code",
   "execution_count": 64,
   "metadata": {},
   "outputs": [
    {
     "data": {
      "text/plain": [
       "<matplotlib.axes._subplots.AxesSubplot at 0x29925ef0208>"
      ]
     },
     "execution_count": 64,
     "metadata": {},
     "output_type": "execute_result"
    },
    {
     "data": {
      "image/png": "[encoded data removed]",
      "text/plain": [
       "<Figure size 432x288 with 1 Axes>"
      ]
     },
     "metadata": {
      "needs_background": "light"
     },
     "output_type": "display_data"
    }
   ],
   "source": [
    "#graphical representation to show the effect of 'fbs' on the no of 'stents'\n",
    "sns.countplot(x='fbs',hue='stent',data=df)"
   ]
  },
  {
   "cell_type": "code",
   "execution_count": 65,
   "metadata": {},
   "outputs": [
    {
     "data": {
      "text/plain": [
       "<matplotlib.axes._subplots.AxesSubplot at 0x29925cc2bc8>"
      ]
     },
     "execution_count": 65,
     "metadata": {},
     "output_type": "execute_result"
    },
    {
     "data": {
      "image/png": "[encoded data removed]",
      "text/plain": [
       "<Figure size 432x288 with 1 Axes>"
      ]
     },
     "metadata": {
      "needs_background": "light"
     },
     "output_type": "display_data"
    }
   ],
   "source": [
    "#graphical representation to show the effect of 'recg' on the no of 'stents'\n",
    "sns.countplot(x='recg',hue='stent',data=df)"
   ]
  },
  {
   "cell_type": "code",
   "execution_count": 66,
   "metadata": {},
   "outputs": [
    {
     "data": {
      "text/plain": [
       "<matplotlib.axes._subplots.AxesSubplot at 0x2992703de48>"
      ]
     },
     "execution_count": 66,
     "metadata": {},
     "output_type": "execute_result"
    },
    {
     "data": {
      "image/png": "[encoded data removed]",
      "text/plain": [
       "<Figure size 432x288 with 1 Axes>"
      ]
     },
     "metadata": {
      "needs_background": "light"
     },
     "output_type": "display_data"
    }
   ],
   "source": [
    "#graphical representation to show the effect of 'max_hrt' on the no of 'stents'\n",
    "sns.countplot(x='max_hrt',hue='stent',data=df)"
   ]
  },
  {
   "cell_type": "code",
   "execution_count": 67,
   "metadata": {},
   "outputs": [
    {
     "data": {
      "text/plain": [
       "<matplotlib.axes._subplots.AxesSubplot at 0x299270efe48>"
      ]
     },
     "execution_count": 67,
     "metadata": {},
     "output_type": "execute_result"
    },
    {
     "data": {
      "image/png": "[encoded data removed]",
      "text/plain": [
       "<Figure size 432x288 with 1 Axes>"
      ]
     },
     "metadata": {
      "needs_background": "light"
     },
     "output_type": "display_data"
    }
   ],
   "source": [
    "#graphical representation to show the effect of 'oldpeak' on the no of 'stents'\n",
    "sns.countplot(x='oldpeak',hue='stent',data=df)"
   ]
  },
  {
   "cell_type": "code",
   "execution_count": 68,
   "metadata": {},
   "outputs": [
    {
     "data": {
      "text/plain": [
       "<matplotlib.axes._subplots.AxesSubplot at 0x299275e61c8>"
      ]
     },
     "execution_count": 68,
     "metadata": {},
     "output_type": "execute_result"
    },
    {
     "data": {
      "image/png": "[encoded data removed]",
      "text/plain": [
       "<Figure size 432x288 with 1 Axes>"
      ]
     },
     "metadata": {
      "needs_background": "light"
     },
     "output_type": "display_data"
    }
   ],
   "source": [
    "#graphical representation to show the effect of 'exang' on the no of 'stents'\n",
    "sns.countplot(x='exang',hue='stent',data=df)"
   ]
  },
  {
   "cell_type": "code",
   "execution_count": 69,
   "metadata": {},
   "outputs": [
    {
     "data": {
      "text/plain": [
       "<matplotlib.axes._subplots.AxesSubplot at 0x2992760e088>"
      ]
     },
     "execution_count": 69,
     "metadata": {},
     "output_type": "execute_result"
    },
    {
     "data": {
      "image/png": "[encoded data removed]",
      "text/plain": [
       "<Figure size 432x288 with 1 Axes>"
      ]
     },
     "metadata": {
      "needs_background": "light"
     },
     "output_type": "display_data"
    }
   ],
   "source": [
    "#graphical representation to show the effect of 'bmi' on the no of 'stents'\n",
    "sns.countplot(x='bmi',hue='stent',data=df)"
   ]
  },
  {
   "cell_type": "code",
   "execution_count": 70,
   "metadata": {},
   "outputs": [
    {
     "data": {
      "text/plain": [
       "<matplotlib.axes._subplots.AxesSubplot at 0x29928686ec8>"
      ]
     },
     "execution_count": 70,
     "metadata": {},
     "output_type": "execute_result"
    },
    {
     "data": {
      "image/png": "[encoded data removed]",
      "text/plain": [
       "<Figure size 432x288 with 1 Axes>"
      ]
     },
     "metadata": {
      "needs_background": "light"
     },
     "output_type": "display_data"
    }
   ],
   "source": [
    "#graphical representation to show the effect of 'pulse_rate' on the no of 'stents'\n",
    "sns.countplot(x='pulse_rate',hue='stent',data=df)"
   ]
  },
  {
   "cell_type": "code",
   "execution_count": 71,
   "metadata": {},
   "outputs": [
    {
     "data": {
      "text/plain": [
       "<matplotlib.axes._subplots.AxesSubplot at 0x29928734ec8>"
      ]
     },
     "execution_count": 71,
     "metadata": {},
     "output_type": "execute_result"
    },
    {
     "data": {
      "image/png": "[encoded data removed]",
      "text/plain": [
       "<Figure size 432x288 with 1 Axes>"
      ]
     },
     "metadata": {
      "needs_background": "light"
     },
     "output_type": "display_data"
    }
   ],
   "source": [
    "#graphical representation to show the effect of 'smoking' on the no of 'stents'\n",
    "sns.countplot(x='smoking',hue='stent',data=df)"
   ]
  },
  {
   "cell_type": "code",
   "execution_count": 72,
   "metadata": {},
   "outputs": [
    {
     "data": {
      "text/plain": [
       "<matplotlib.axes._subplots.AxesSubplot at 0x2992a802c88>"
      ]
     },
     "execution_count": 72,
     "metadata": {},
     "output_type": "execute_result"
    },
    {
     "data": {
      "image/png": "[encoded data removed]",
      "text/plain": [
       "<Figure size 432x288 with 1 Axes>"
      ]
     },
     "metadata": {
      "needs_background": "light"
     },
     "output_type": "display_data"
    }
   ],
   "source": [
    "#graphical representation to show the effect of 'LAD' on the no of 'stents'\n",
    "sns.countplot(x='LAD',hue='stent',data=df)"
   ]
  },
  {
   "cell_type": "code",
   "execution_count": 73,
   "metadata": {},
   "outputs": [
    {
     "data": {
      "text/plain": [
       "<matplotlib.axes._subplots.AxesSubplot at 0x2992a871208>"
      ]
     },
     "execution_count": 73,
     "metadata": {},
     "output_type": "execute_result"
    },
    {
     "data": {
      "image/png": "[encoded data removed]",
      "text/plain": [
       "<Figure size 432x288 with 1 Axes>"
      ]
     },
     "metadata": {
      "needs_background": "light"
     },
     "output_type": "display_data"
    }
   ],
   "source": [
    "#graphical representation to show the effect of 'CA' on the no of 'stents'\n",
    "sns.countplot(x='CA',hue='stent',data=df)"
   ]
  },
  {
   "cell_type": "code",
   "execution_count": 74,
   "metadata": {},
   "outputs": [
    {
     "data": {
      "text/plain": [
       "<matplotlib.axes._subplots.AxesSubplot at 0x29923ca2288>"
      ]
     },
     "execution_count": 74,
     "metadata": {},
     "output_type": "execute_result"
    },
    {
     "data": {
      "image/png": "[encoded data removed]",
      "text/plain": [
       "<Figure size 432x288 with 1 Axes>"
      ]
     },
     "metadata": {
      "needs_background": "light"
     },
     "output_type": "display_data"
    }
   ],
   "source": [
    "#graphical representation to show the effect of 'RCA' on the no of 'stents'\n",
    "sns.countplot(x='RCA',hue='stent',data=df)"
   ]
  },
  {
   "cell_type": "code",
   "execution_count": 75,
   "metadata": {},
   "outputs": [
    {
     "data": {
      "text/plain": [
       "<matplotlib.axes._subplots.AxesSubplot at 0x2992aa0f208>"
      ]
     },
     "execution_count": 75,
     "metadata": {},
     "output_type": "execute_result"
    },
    {
     "data": {
      "image/png": "[encoded data removed]",
      "text/plain": [
       "<Figure size 432x288 with 1 Axes>"
      ]
     },
     "metadata": {
      "needs_background": "light"
     },
     "output_type": "display_data"
    }
   ],
   "source": [
    "#graphical representation to show the effect of 'OM' on the no of 'stents'\n",
    "sns.countplot(x='OM',hue='stent',data=df)"
   ]
  },
  {
   "cell_type": "code",
   "execution_count": 76,
   "metadata": {},
   "outputs": [
    {
     "data": {
      "text/plain": [
       "<matplotlib.axes._subplots.AxesSubplot at 0x2992aaf5ec8>"
      ]
     },
     "execution_count": 76,
     "metadata": {},
     "output_type": "execute_result"
    },
    {
     "data": {
      "image/png": "[encoded data removed]",
      "text/plain": [
       "<Figure size 432x288 with 1 Axes>"
      ]
     },
     "metadata": {
      "needs_background": "light"
     },
     "output_type": "display_data"
    }
   ],
   "source": [
    "#graphical representation to show the effect of 'LPD' on the no of 'stents'\n",
    "sns.countplot(x='LPD',hue='stent',data=df)"
   ]
  },
  {
   "cell_type": "code",
   "execution_count": 77,
   "metadata": {},
   "outputs": [
    {
     "data": {
      "text/plain": [
       "<matplotlib.axes._subplots.AxesSubplot at 0x2992abbae48>"
      ]
     },
     "execution_count": 77,
     "metadata": {},
     "output_type": "execute_result"
    },
    {
     "data": {
      "image/png": "[encoded data removed]",
      "text/plain": [
       "<Figure size 432x288 with 1 Axes>"
      ]
     },
     "metadata": {
      "needs_background": "light"
     },
     "output_type": "display_data"
    }
   ],
   "source": [
    "#graphical representation to show the effect of 'LCA' on the no of 'stents'\n",
    "sns.countplot(x='LCA',hue='stent',data=df)"
   ]
  },
  {
   "cell_type": "code",
   "execution_count": 78,
   "metadata": {},
   "outputs": [],
   "source": [
    "#removing the unnecessary columns that will not have any affect on the final outcome\n",
    "lst=['p_no','Name','adm_dt','dis_dt']\n"
   ]
  },
  {
   "cell_type": "code",
   "execution_count": 79,
   "metadata": {},
   "outputs": [],
   "source": [
    "df.drop(lst,axis=1,inplace=True)"
   ]
  },
  {
   "cell_type": "code",
   "execution_count": 80,
   "metadata": {},
   "outputs": [
    {
     "name": "stdout",
     "output_type": "stream",
     "text": [
      "<class 'pandas.core.frame.DataFrame'>\n",
      "RangeIndex: 500 entries, 0 to 499\n",
      "Data columns (total 22 columns):\n",
      "sex            491 non-null object\n",
      "age            492 non-null float64\n",
      "chest pain     473 non-null float64\n",
      "rbp            445 non-null object\n",
      "chol           441 non-null float64\n",
      "fbs            457 non-null float64\n",
      "recg           456 non-null float64\n",
      "max_hrt        460 non-null float64\n",
      "oldpeak        455 non-null object\n",
      "slope          390 non-null float64\n",
      "exang          394 non-null float64\n",
      "bmi            500 non-null float64\n",
      "pulse_rate     480 non-null float64\n",
      "smoking        461 non-null object\n",
      "LAD            417 non-null object\n",
      "CA             184 non-null object\n",
      "RCA            329 non-null object\n",
      "OM             171 non-null object\n",
      "LPD            186 non-null object\n",
      "LCA            170 non-null object\n",
      "stent          492 non-null float64\n",
      "Unnamed: 25    0 non-null float64\n",
      "dtypes: float64(12), object(10)\n",
      "memory usage: 86.1+ KB\n"
     ]
    }
   ],
   "source": [
    "#displaying the structure of the dataset to make sure that the columns have been successfully dropped\n",
    "df.info()"
   ]
  },
  {
   "cell_type": "code",
   "execution_count": 81,
   "metadata": {},
   "outputs": [
    {
     "data": {
      "text/html": [
       "<div>\n",
       "<style scoped>\n",
       "    .dataframe tbody tr th:only-of-type {\n",
       "        vertical-align: middle;\n",
       "    }\n",
       "\n",
       "    .dataframe tbody tr th {\n",
       "        vertical-align: top;\n",
       "    }\n",
       "\n",
       "    .dataframe thead th {\n",
       "        text-align: right;\n",
       "    }\n",
       "</style>\n",
       "<table border=\"1\" class=\"dataframe\">\n",
       "  <thead>\n",
       "    <tr style=\"text-align: right;\">\n",
       "      <th></th>\n",
       "      <th>M</th>\n",
       "    </tr>\n",
       "  </thead>\n",
       "  <tbody>\n",
       "    <tr>\n",
       "      <td>0</td>\n",
       "      <td>1</td>\n",
       "    </tr>\n",
       "    <tr>\n",
       "      <td>1</td>\n",
       "      <td>1</td>\n",
       "    </tr>\n",
       "    <tr>\n",
       "      <td>2</td>\n",
       "      <td>1</td>\n",
       "    </tr>\n",
       "    <tr>\n",
       "      <td>3</td>\n",
       "      <td>1</td>\n",
       "    </tr>\n",
       "    <tr>\n",
       "      <td>4</td>\n",
       "      <td>0</td>\n",
       "    </tr>\n",
       "    <tr>\n",
       "      <td>...</td>\n",
       "      <td>...</td>\n",
       "    </tr>\n",
       "    <tr>\n",
       "      <td>495</td>\n",
       "      <td>0</td>\n",
       "    </tr>\n",
       "    <tr>\n",
       "      <td>496</td>\n",
       "      <td>0</td>\n",
       "    </tr>\n",
       "    <tr>\n",
       "      <td>497</td>\n",
       "      <td>0</td>\n",
       "    </tr>\n",
       "    <tr>\n",
       "      <td>498</td>\n",
       "      <td>0</td>\n",
       "    </tr>\n",
       "    <tr>\n",
       "      <td>499</td>\n",
       "      <td>0</td>\n",
       "    </tr>\n",
       "  </tbody>\n",
       "</table>\n",
       "<p>500 rows × 1 columns</p>\n",
       "</div>"
      ],
      "text/plain": [
       "     M\n",
       "0    1\n",
       "1    1\n",
       "2    1\n",
       "3    1\n",
       "4    0\n",
       "..  ..\n",
       "495  0\n",
       "496  0\n",
       "497  0\n",
       "498  0\n",
       "499  0\n",
       "\n",
       "[500 rows x 1 columns]"
      ]
     },
     "execution_count": 81,
     "metadata": {},
     "output_type": "execute_result"
    }
   ],
   "source": [
    "#now,we are going to convert the catogorical data into numeric values in order to further calculations feasible\n",
    "#we are creating the dummy variables of column 'sex':0-M,1-F\n",
    "sex_m=pd.get_dummies(df['sex'],drop_first=True)\n",
    "sex_m"
   ]
  },
  {
   "cell_type": "code",
   "execution_count": 82,
   "metadata": {},
   "outputs": [
    {
     "data": {
      "text/html": [
       "<div>\n",
       "<style scoped>\n",
       "    .dataframe tbody tr th:only-of-type {\n",
       "        vertical-align: middle;\n",
       "    }\n",
       "\n",
       "    .dataframe tbody tr th {\n",
       "        vertical-align: top;\n",
       "    }\n",
       "\n",
       "    .dataframe thead th {\n",
       "        text-align: right;\n",
       "    }\n",
       "</style>\n",
       "<table border=\"1\" class=\"dataframe\">\n",
       "  <thead>\n",
       "    <tr style=\"text-align: right;\">\n",
       "      <th></th>\n",
       "      <th>YES</th>\n",
       "    </tr>\n",
       "  </thead>\n",
       "  <tbody>\n",
       "    <tr>\n",
       "      <td>0</td>\n",
       "      <td>1</td>\n",
       "    </tr>\n",
       "    <tr>\n",
       "      <td>1</td>\n",
       "      <td>1</td>\n",
       "    </tr>\n",
       "    <tr>\n",
       "      <td>2</td>\n",
       "      <td>0</td>\n",
       "    </tr>\n",
       "    <tr>\n",
       "      <td>3</td>\n",
       "      <td>0</td>\n",
       "    </tr>\n",
       "    <tr>\n",
       "      <td>4</td>\n",
       "      <td>0</td>\n",
       "    </tr>\n",
       "    <tr>\n",
       "      <td>...</td>\n",
       "      <td>...</td>\n",
       "    </tr>\n",
       "    <tr>\n",
       "      <td>495</td>\n",
       "      <td>0</td>\n",
       "    </tr>\n",
       "    <tr>\n",
       "      <td>496</td>\n",
       "      <td>0</td>\n",
       "    </tr>\n",
       "    <tr>\n",
       "      <td>497</td>\n",
       "      <td>0</td>\n",
       "    </tr>\n",
       "    <tr>\n",
       "      <td>498</td>\n",
       "      <td>0</td>\n",
       "    </tr>\n",
       "    <tr>\n",
       "      <td>499</td>\n",
       "      <td>0</td>\n",
       "    </tr>\n",
       "  </tbody>\n",
       "</table>\n",
       "<p>500 rows × 1 columns</p>\n",
       "</div>"
      ],
      "text/plain": [
       "     YES\n",
       "0      1\n",
       "1      1\n",
       "2      0\n",
       "3      0\n",
       "4      0\n",
       "..   ...\n",
       "495    0\n",
       "496    0\n",
       "497    0\n",
       "498    0\n",
       "499    0\n",
       "\n",
       "[500 rows x 1 columns]"
      ]
     },
     "execution_count": 82,
     "metadata": {},
     "output_type": "execute_result"
    }
   ],
   "source": [
    "#we are creating the dummy variables of column 'smoking':0-NO,1-YES\n",
    "smoking_y=pd.get_dummies(df['smoking'],drop_first=True)\n",
    "smoking_y"
   ]
  },
  {
   "cell_type": "code",
   "execution_count": 83,
   "metadata": {},
   "outputs": [],
   "source": [
    "#dropping the columns that contained the catagorical value\n",
    "lst=['sex','smoking']\n",
    "df.drop(lst,axis=1,inplace=True)"
   ]
  },
  {
   "cell_type": "code",
   "execution_count": 84,
   "metadata": {},
   "outputs": [
    {
     "name": "stdout",
     "output_type": "stream",
     "text": [
      "<class 'pandas.core.frame.DataFrame'>\n",
      "RangeIndex: 500 entries, 0 to 499\n",
      "Data columns (total 20 columns):\n",
      "age            492 non-null float64\n",
      "chest pain     473 non-null float64\n",
      "rbp            445 non-null object\n",
      "chol           441 non-null float64\n",
      "fbs            457 non-null float64\n",
      "recg           456 non-null float64\n",
      "max_hrt        460 non-null float64\n",
      "oldpeak        455 non-null object\n",
      "slope          390 non-null float64\n",
      "exang          394 non-null float64\n",
      "bmi            500 non-null float64\n",
      "pulse_rate     480 non-null float64\n",
      "LAD            417 non-null object\n",
      "CA             184 non-null object\n",
      "RCA            329 non-null object\n",
      "OM             171 non-null object\n",
      "LPD            186 non-null object\n",
      "LCA            170 non-null object\n",
      "stent          492 non-null float64\n",
      "Unnamed: 25    0 non-null float64\n",
      "dtypes: float64(12), object(8)\n",
      "memory usage: 78.2+ KB\n"
     ]
    }
   ],
   "source": [
    "#displaying the structure of the dataset to make sure that the columns have been successfully dropped\n",
    "df.info()"
   ]
  },
  {
   "cell_type": "code",
   "execution_count": 85,
   "metadata": {},
   "outputs": [],
   "source": [
    "#inserting the series in our dataset that contains the dummy numeric value of the column 'sex' and renaming it as 'sex'\n",
    "df.insert(0, \"sex\",sex_m,True) "
   ]
  },
  {
   "cell_type": "code",
   "execution_count": 86,
   "metadata": {},
   "outputs": [],
   "source": [
    "#inserting the series in our dataset that contains the dummy numeric value of the column 'smoking' and renaming it as 'smoking'\n",
    "df.insert(2, \"smoking\",smoking_y, True) "
   ]
  },
  {
   "cell_type": "code",
   "execution_count": 87,
   "metadata": {},
   "outputs": [
    {
     "name": "stdout",
     "output_type": "stream",
     "text": [
      "<class 'pandas.core.frame.DataFrame'>\n",
      "RangeIndex: 500 entries, 0 to 499\n",
      "Data columns (total 22 columns):\n",
      "sex            500 non-null uint8\n",
      "age            492 non-null float64\n",
      "smoking        500 non-null uint8\n",
      "chest pain     473 non-null float64\n",
      "rbp            445 non-null object\n",
      "chol           441 non-null float64\n",
      "fbs            457 non-null float64\n",
      "recg           456 non-null float64\n",
      "max_hrt        460 non-null float64\n",
      "oldpeak        455 non-null object\n",
      "slope          390 non-null float64\n",
      "exang          394 non-null float64\n",
      "bmi            500 non-null float64\n",
      "pulse_rate     480 non-null float64\n",
      "LAD            417 non-null object\n",
      "CA             184 non-null object\n",
      "RCA            329 non-null object\n",
      "OM             171 non-null object\n",
      "LPD            186 non-null object\n",
      "LCA            170 non-null object\n",
      "stent          492 non-null float64\n",
      "Unnamed: 25    0 non-null float64\n",
      "dtypes: float64(12), object(8), uint8(2)\n",
      "memory usage: 79.2+ KB\n"
     ]
    }
   ],
   "source": [
    "#displaying the structure of the dataset to make sure that the series have been successfully inserted\n",
    "df.info()"
   ]
  },
  {
   "cell_type": "code",
   "execution_count": 88,
   "metadata": {},
   "outputs": [
    {
     "data": {
      "text/html": [
       "<div>\n",
       "<style scoped>\n",
       "    .dataframe tbody tr th:only-of-type {\n",
       "        vertical-align: middle;\n",
       "    }\n",
       "\n",
       "    .dataframe tbody tr th {\n",
       "        vertical-align: top;\n",
       "    }\n",
       "\n",
       "    .dataframe thead th {\n",
       "        text-align: right;\n",
       "    }\n",
       "</style>\n",
       "<table border=\"1\" class=\"dataframe\">\n",
       "  <thead>\n",
       "    <tr style=\"text-align: right;\">\n",
       "      <th></th>\n",
       "      <th>sex</th>\n",
       "      <th>age</th>\n",
       "      <th>smoking</th>\n",
       "      <th>chest pain</th>\n",
       "      <th>chol</th>\n",
       "      <th>fbs</th>\n",
       "      <th>recg</th>\n",
       "      <th>max_hrt</th>\n",
       "      <th>slope</th>\n",
       "      <th>exang</th>\n",
       "      <th>bmi</th>\n",
       "      <th>pulse_rate</th>\n",
       "      <th>stent</th>\n",
       "      <th>Unnamed: 25</th>\n",
       "    </tr>\n",
       "  </thead>\n",
       "  <tbody>\n",
       "    <tr>\n",
       "      <td>count</td>\n",
       "      <td>500.000000</td>\n",
       "      <td>492.000000</td>\n",
       "      <td>500.000000</td>\n",
       "      <td>473.000000</td>\n",
       "      <td>441.000000</td>\n",
       "      <td>457.000000</td>\n",
       "      <td>456.000000</td>\n",
       "      <td>460.000000</td>\n",
       "      <td>390.000000</td>\n",
       "      <td>394.000000</td>\n",
       "      <td>500.000000</td>\n",
       "      <td>480.000000</td>\n",
       "      <td>492.000000</td>\n",
       "      <td>0.0</td>\n",
       "    </tr>\n",
       "    <tr>\n",
       "      <td>mean</td>\n",
       "      <td>0.686000</td>\n",
       "      <td>53.985772</td>\n",
       "      <td>0.490000</td>\n",
       "      <td>1.010571</td>\n",
       "      <td>238.621315</td>\n",
       "      <td>0.161926</td>\n",
       "      <td>0.478070</td>\n",
       "      <td>150.523913</td>\n",
       "      <td>1.028462</td>\n",
       "      <td>1.401015</td>\n",
       "      <td>36.360540</td>\n",
       "      <td>122.014583</td>\n",
       "      <td>0.833333</td>\n",
       "      <td>NaN</td>\n",
       "    </tr>\n",
       "    <tr>\n",
       "      <td>std</td>\n",
       "      <td>0.464581</td>\n",
       "      <td>9.254591</td>\n",
       "      <td>0.500401</td>\n",
       "      <td>1.003117</td>\n",
       "      <td>51.037013</td>\n",
       "      <td>0.368786</td>\n",
       "      <td>0.517349</td>\n",
       "      <td>23.775032</td>\n",
       "      <td>1.183666</td>\n",
       "      <td>0.614994</td>\n",
       "      <td>10.186917</td>\n",
       "      <td>35.887114</td>\n",
       "      <td>0.755608</td>\n",
       "      <td>NaN</td>\n",
       "    </tr>\n",
       "    <tr>\n",
       "      <td>min</td>\n",
       "      <td>0.000000</td>\n",
       "      <td>29.000000</td>\n",
       "      <td>0.000000</td>\n",
       "      <td>0.000000</td>\n",
       "      <td>104.000000</td>\n",
       "      <td>0.000000</td>\n",
       "      <td>0.000000</td>\n",
       "      <td>71.000000</td>\n",
       "      <td>0.000000</td>\n",
       "      <td>0.000000</td>\n",
       "      <td>19.090000</td>\n",
       "      <td>60.000000</td>\n",
       "      <td>0.000000</td>\n",
       "      <td>NaN</td>\n",
       "    </tr>\n",
       "    <tr>\n",
       "      <td>25%</td>\n",
       "      <td>0.000000</td>\n",
       "      <td>47.000000</td>\n",
       "      <td>0.000000</td>\n",
       "      <td>0.000000</td>\n",
       "      <td>205.000000</td>\n",
       "      <td>0.000000</td>\n",
       "      <td>0.000000</td>\n",
       "      <td>137.000000</td>\n",
       "      <td>0.000000</td>\n",
       "      <td>1.000000</td>\n",
       "      <td>27.360000</td>\n",
       "      <td>89.750000</td>\n",
       "      <td>0.000000</td>\n",
       "      <td>NaN</td>\n",
       "    </tr>\n",
       "    <tr>\n",
       "      <td>50%</td>\n",
       "      <td>1.000000</td>\n",
       "      <td>55.000000</td>\n",
       "      <td>0.000000</td>\n",
       "      <td>1.000000</td>\n",
       "      <td>235.000000</td>\n",
       "      <td>0.000000</td>\n",
       "      <td>0.000000</td>\n",
       "      <td>153.500000</td>\n",
       "      <td>0.800000</td>\n",
       "      <td>1.000000</td>\n",
       "      <td>36.385000</td>\n",
       "      <td>123.000000</td>\n",
       "      <td>1.000000</td>\n",
       "      <td>NaN</td>\n",
       "    </tr>\n",
       "    <tr>\n",
       "      <td>75%</td>\n",
       "      <td>1.000000</td>\n",
       "      <td>61.000000</td>\n",
       "      <td>1.000000</td>\n",
       "      <td>2.000000</td>\n",
       "      <td>271.000000</td>\n",
       "      <td>0.000000</td>\n",
       "      <td>1.000000</td>\n",
       "      <td>169.000000</td>\n",
       "      <td>1.600000</td>\n",
       "      <td>2.000000</td>\n",
       "      <td>45.452500</td>\n",
       "      <td>155.000000</td>\n",
       "      <td>1.000000</td>\n",
       "      <td>NaN</td>\n",
       "    </tr>\n",
       "    <tr>\n",
       "      <td>max</td>\n",
       "      <td>1.000000</td>\n",
       "      <td>77.000000</td>\n",
       "      <td>1.000000</td>\n",
       "      <td>3.000000</td>\n",
       "      <td>564.000000</td>\n",
       "      <td>1.000000</td>\n",
       "      <td>2.000000</td>\n",
       "      <td>202.000000</td>\n",
       "      <td>6.200000</td>\n",
       "      <td>2.000000</td>\n",
       "      <td>53.880000</td>\n",
       "      <td>180.000000</td>\n",
       "      <td>3.000000</td>\n",
       "      <td>NaN</td>\n",
       "    </tr>\n",
       "  </tbody>\n",
       "</table>\n",
       "</div>"
      ],
      "text/plain": [
       "              sex         age     smoking  chest pain        chol         fbs  \\\n",
       "count  500.000000  492.000000  500.000000  473.000000  441.000000  457.000000   \n",
       "mean     0.686000   53.985772    0.490000    1.010571  238.621315    0.161926   \n",
       "std      0.464581    9.254591    0.500401    1.003117   51.037013    0.368786   \n",
       "min      0.000000   29.000000    0.000000    0.000000  104.000000    0.000000   \n",
       "25%      0.000000   47.000000    0.000000    0.000000  205.000000    0.000000   \n",
       "50%      1.000000   55.000000    0.000000    1.000000  235.000000    0.000000   \n",
       "75%      1.000000   61.000000    1.000000    2.000000  271.000000    0.000000   \n",
       "max      1.000000   77.000000    1.000000    3.000000  564.000000    1.000000   \n",
       "\n",
       "             recg     max_hrt       slope       exang         bmi  pulse_rate  \\\n",
       "count  456.000000  460.000000  390.000000  394.000000  500.000000  480.000000   \n",
       "mean     0.478070  150.523913    1.028462    1.401015   36.360540  122.014583   \n",
       "std      0.517349   23.775032    1.183666    0.614994   10.186917   35.887114   \n",
       "min      0.000000   71.000000    0.000000    0.000000   19.090000   60.000000   \n",
       "25%      0.000000  137.000000    0.000000    1.000000   27.360000   89.750000   \n",
       "50%      0.000000  153.500000    0.800000    1.000000   36.385000  123.000000   \n",
       "75%      1.000000  169.000000    1.600000    2.000000   45.452500  155.000000   \n",
       "max      2.000000  202.000000    6.200000    2.000000   53.880000  180.000000   \n",
       "\n",
       "            stent  Unnamed: 25  \n",
       "count  492.000000          0.0  \n",
       "mean     0.833333          NaN  \n",
       "std      0.755608          NaN  \n",
       "min      0.000000          NaN  \n",
       "25%      0.000000          NaN  \n",
       "50%      1.000000          NaN  \n",
       "75%      1.000000          NaN  \n",
       "max      3.000000          NaN  "
      ]
     },
     "execution_count": 88,
     "metadata": {},
     "output_type": "execute_result"
    }
   ],
   "source": [
    "#displaying the statistical data of our dtaset\n",
    "df.describe()"
   ]
  },
  {
   "cell_type": "code",
   "execution_count": 89,
   "metadata": {},
   "outputs": [],
   "source": [
    "#for a normal distribution,the standard deviation should be 1\n",
    "#here the columns 'age','chol','max_hrt','bmi','pulse_rate'\n",
    "#have a very high standard deviation value so we need to transform them"
   ]
  },
  {
   "cell_type": "code",
   "execution_count": 90,
   "metadata": {},
   "outputs": [
    {
     "data": {
      "text/plain": [
       "<matplotlib.axes._subplots.AxesSubplot at 0x29923cd8a08>"
      ]
     },
     "execution_count": 90,
     "metadata": {},
     "output_type": "execute_result"
    },
    {
     "data": {
      "image/png": "[encoded data removed]",
      "text/plain": [
       "<Figure size 1440x360 with 1 Axes>"
      ]
     },
     "metadata": {
      "needs_background": "light"
     },
     "output_type": "display_data"
    }
   ],
   "source": [
    "#plotting the histogram of column 'age' to check its skewness\n",
    "df['age'].plot.hist(bins=20,figsize=(20,5))"
   ]
  },
  {
   "cell_type": "code",
   "execution_count": 91,
   "metadata": {},
   "outputs": [
    {
     "data": {
      "text/plain": [
       "count    492.000000\n",
       "mean       7.319390\n",
       "std        0.642765\n",
       "min        5.385165\n",
       "25%        6.855655\n",
       "50%        7.416198\n",
       "75%        7.810250\n",
       "max        8.774964\n",
       "Name: age, dtype: float64"
      ]
     },
     "execution_count": 91,
     "metadata": {},
     "output_type": "execute_result"
    }
   ],
   "source": [
    "#as the data is skewed,we are using square root transformation to remove the skewness\n",
    "age_sqrt = df.age**(1/2)\n",
    "age_sqrt.describe()"
   ]
  },
  {
   "cell_type": "code",
   "execution_count": 92,
   "metadata": {},
   "outputs": [],
   "source": [
    "#now the standard deviation is near 1,so the skewness is removed\n"
   ]
  },
  {
   "cell_type": "code",
   "execution_count": 93,
   "metadata": {},
   "outputs": [
    {
     "data": {
      "text/plain": [
       "<matplotlib.axes._subplots.AxesSubplot at 0x2992af6de88>"
      ]
     },
     "execution_count": 93,
     "metadata": {},
     "output_type": "execute_result"
    },
    {
     "data": {
      "image/png": "[encoded data removed]",
      "text/plain": [
       "<Figure size 1440x360 with 1 Axes>"
      ]
     },
     "metadata": {
      "needs_background": "light"
     },
     "output_type": "display_data"
    }
   ],
   "source": [
    "#plotting the histogram of column 'chol' to check its skewness\n",
    "df['chol'].plot.hist(bins=20,figsize=(20,5))"
   ]
  },
  {
   "cell_type": "code",
   "execution_count": 94,
   "metadata": {},
   "outputs": [
    {
     "data": {
      "text/plain": [
       "count    441.000000\n",
       "mean      15.359067\n",
       "std        1.651233\n",
       "min       10.198039\n",
       "25%       14.317821\n",
       "50%       15.329710\n",
       "75%       16.462078\n",
       "max       23.748684\n",
       "Name: chol, dtype: float64"
      ]
     },
     "execution_count": 94,
     "metadata": {},
     "output_type": "execute_result"
    }
   ],
   "source": [
    "#as the data is skewed,we are using square root transformation to remove the skewness\n",
    "chol_sqt= df.chol**(1/2)\n",
    "chol_sqt.describe()"
   ]
  },
  {
   "cell_type": "code",
   "execution_count": 95,
   "metadata": {},
   "outputs": [],
   "source": [
    "#now the standard deviation is near 1,so the skewness is removed\n"
   ]
  },
  {
   "cell_type": "code",
   "execution_count": 96,
   "metadata": {},
   "outputs": [
    {
     "data": {
      "text/plain": [
       "<matplotlib.axes._subplots.AxesSubplot at 0x2992adbcf48>"
      ]
     },
     "execution_count": 96,
     "metadata": {},
     "output_type": "execute_result"
    },
    {
     "data": {
      "image/png": "[encoded data removed]",
      "text/plain": [
       "<Figure size 1440x360 with 1 Axes>"
      ]
     },
     "metadata": {
      "needs_background": "light"
     },
     "output_type": "display_data"
    }
   ],
   "source": [
    "#plotting the histogram of column 'bmi' to check its skewness\n",
    "df['bmi'].plot.hist(bins=20,figsize=(20,5))"
   ]
  },
  {
   "cell_type": "code",
   "execution_count": 97,
   "metadata": {},
   "outputs": [
    {
     "data": {
      "text/plain": [
       "count    500.000000\n",
       "mean       5.968007\n",
       "std        0.863092\n",
       "min        4.369210\n",
       "25%        5.230679\n",
       "50%        6.031996\n",
       "75%        6.741847\n",
       "max        7.340300\n",
       "Name: bmi, dtype: float64"
      ]
     },
     "execution_count": 97,
     "metadata": {},
     "output_type": "execute_result"
    }
   ],
   "source": [
    "#as the data is skewed,we are using square root transformation to remove the skewness\n",
    "bmi_s = df.bmi**(1/2)\n",
    "bmi_s.describe()"
   ]
  },
  {
   "cell_type": "code",
   "execution_count": 98,
   "metadata": {},
   "outputs": [],
   "source": [
    "#now the standard deviation is near 1,so the skewness is removed\n"
   ]
  },
  {
   "cell_type": "code",
   "execution_count": 99,
   "metadata": {},
   "outputs": [
    {
     "data": {
      "text/plain": [
       "<matplotlib.axes._subplots.AxesSubplot at 0x2992ae5c4c8>"
      ]
     },
     "execution_count": 99,
     "metadata": {},
     "output_type": "execute_result"
    },
    {
     "data": {
      "image/png": "[encoded data removed]",
      "text/plain": [
       "<Figure size 1440x360 with 1 Axes>"
      ]
     },
     "metadata": {
      "needs_background": "light"
     },
     "output_type": "display_data"
    }
   ],
   "source": [
    "#plotting the histogram of column 'max_hrt' to check its skewness\n",
    "df['max_hrt'].plot.hist(bins=20,figsize=(20,5))"
   ]
  },
  {
   "cell_type": "code",
   "execution_count": 100,
   "metadata": {},
   "outputs": [
    {
     "data": {
      "text/plain": [
       "count    460.000000\n",
       "mean      12.227695\n",
       "std        1.004776\n",
       "min        8.426150\n",
       "25%       11.704700\n",
       "50%       12.389495\n",
       "75%       13.000000\n",
       "max       14.212670\n",
       "Name: max_hrt, dtype: float64"
      ]
     },
     "execution_count": 100,
     "metadata": {},
     "output_type": "execute_result"
    }
   ],
   "source": [
    "#as the data is skewed,we are using square root transformation to remove the skewness\n",
    "max_hrt_st= df.max_hrt**(1/2)\n",
    "max_hrt_st.describe()"
   ]
  },
  {
   "cell_type": "code",
   "execution_count": 101,
   "metadata": {},
   "outputs": [],
   "source": [
    "#now the standard deviation is near 1,so the skewness is removed\n"
   ]
  },
  {
   "cell_type": "code",
   "execution_count": 102,
   "metadata": {},
   "outputs": [
    {
     "data": {
      "text/plain": [
       "<matplotlib.axes._subplots.AxesSubplot at 0x2992aefc348>"
      ]
     },
     "execution_count": 102,
     "metadata": {},
     "output_type": "execute_result"
    },
    {
     "data": {
      "image/png": "[encoded data removed]",
      "text/plain": [
       "<Figure size 1440x360 with 1 Axes>"
      ]
     },
     "metadata": {
      "needs_background": "light"
     },
     "output_type": "display_data"
    }
   ],
   "source": [
    "#plotting the histogram of column 'pulse_rate' to check its skewness\n",
    "df['pulse_rate'].plot.hist(bins=20,figsize=(20,5))"
   ]
  },
  {
   "cell_type": "code",
   "execution_count": 103,
   "metadata": {},
   "outputs": [
    {
     "data": {
      "text/plain": [
       "count    480.000000\n",
       "mean      10.919989\n",
       "std        1.665596\n",
       "min        7.745967\n",
       "25%        9.473620\n",
       "50%       11.090537\n",
       "75%       12.449900\n",
       "max       13.416408\n",
       "Name: pulse_rate, dtype: float64"
      ]
     },
     "execution_count": 103,
     "metadata": {},
     "output_type": "execute_result"
    }
   ],
   "source": [
    "#as the data is skewed,we are using square root transformation to remove the skewness\n",
    "pulse_rate_srt= df.pulse_rate**(1/2)\n",
    "pulse_rate_srt.describe()"
   ]
  },
  {
   "cell_type": "code",
   "execution_count": 104,
   "metadata": {},
   "outputs": [],
   "source": [
    "#now the standard deviation is near 1,so the skewness is removed\n"
   ]
  },
  {
   "cell_type": "code",
   "execution_count": 105,
   "metadata": {},
   "outputs": [],
   "source": [
    "#removing the columns with the skewed data\n",
    "lst=['age','chol','max_hrt','bmi','pulse_rate']"
   ]
  },
  {
   "cell_type": "code",
   "execution_count": 106,
   "metadata": {},
   "outputs": [],
   "source": [
    "df.drop(lst,axis=1,inplace=True)"
   ]
  },
  {
   "cell_type": "code",
   "execution_count": 107,
   "metadata": {},
   "outputs": [
    {
     "name": "stdout",
     "output_type": "stream",
     "text": [
      "<class 'pandas.core.frame.DataFrame'>\n",
      "RangeIndex: 500 entries, 0 to 499\n",
      "Data columns (total 17 columns):\n",
      "sex            500 non-null uint8\n",
      "smoking        500 non-null uint8\n",
      "chest pain     473 non-null float64\n",
      "rbp            445 non-null object\n",
      "fbs            457 non-null float64\n",
      "recg           456 non-null float64\n",
      "oldpeak        455 non-null object\n",
      "slope          390 non-null float64\n",
      "exang          394 non-null float64\n",
      "LAD            417 non-null object\n",
      "CA             184 non-null object\n",
      "RCA            329 non-null object\n",
      "OM             171 non-null object\n",
      "LPD            186 non-null object\n",
      "LCA            170 non-null object\n",
      "stent          492 non-null float64\n",
      "Unnamed: 25    0 non-null float64\n",
      "dtypes: float64(7), object(8), uint8(2)\n",
      "memory usage: 59.7+ KB\n"
     ]
    }
   ],
   "source": [
    "#displaying the data structure to make sure that the columns have been successfully dropped\n",
    "df.info()"
   ]
  },
  {
   "cell_type": "code",
   "execution_count": 108,
   "metadata": {},
   "outputs": [],
   "source": [
    "#inserting the series with the transformed data into the dataset\n",
    "df.insert(2, \"chol\",chol_sqt,True) "
   ]
  },
  {
   "cell_type": "code",
   "execution_count": 109,
   "metadata": {},
   "outputs": [],
   "source": [
    "df.insert(1, \"age\",age_sqrt,True)"
   ]
  },
  {
   "cell_type": "code",
   "execution_count": 110,
   "metadata": {},
   "outputs": [],
   "source": [
    "df.insert(5, \"max_hrt\",max_hrt_st,True)"
   ]
  },
  {
   "cell_type": "code",
   "execution_count": 111,
   "metadata": {},
   "outputs": [],
   "source": [
    "df.insert(6, \"bmi\",bmi_s,True)"
   ]
  },
  {
   "cell_type": "code",
   "execution_count": 112,
   "metadata": {},
   "outputs": [],
   "source": [
    "df.insert(7,\"pulse_rate\",pulse_rate_srt,True)"
   ]
  },
  {
   "cell_type": "code",
   "execution_count": 113,
   "metadata": {},
   "outputs": [
    {
     "name": "stdout",
     "output_type": "stream",
     "text": [
      "<class 'pandas.core.frame.DataFrame'>\n",
      "RangeIndex: 500 entries, 0 to 499\n",
      "Data columns (total 22 columns):\n",
      "sex            500 non-null uint8\n",
      "age            492 non-null float64\n",
      "smoking        500 non-null uint8\n",
      "chol           441 non-null float64\n",
      "chest pain     473 non-null float64\n",
      "max_hrt        460 non-null float64\n",
      "bmi            500 non-null float64\n",
      "pulse_rate     480 non-null float64\n",
      "rbp            445 non-null object\n",
      "fbs            457 non-null float64\n",
      "recg           456 non-null float64\n",
      "oldpeak        455 non-null object\n",
      "slope          390 non-null float64\n",
      "exang          394 non-null float64\n",
      "LAD            417 non-null object\n",
      "CA             184 non-null object\n",
      "RCA            329 non-null object\n",
      "OM             171 non-null object\n",
      "LPD            186 non-null object\n",
      "LCA            170 non-null object\n",
      "stent          492 non-null float64\n",
      "Unnamed: 25    0 non-null float64\n",
      "dtypes: float64(12), object(8), uint8(2)\n",
      "memory usage: 79.2+ KB\n"
     ]
    }
   ],
   "source": [
    "#displaying the structure of the dataset to make sure that our transformed data is successfully added\n",
    "df.info()"
   ]
  },
  {
   "cell_type": "code",
   "execution_count": 114,
   "metadata": {},
   "outputs": [
    {
     "data": {
      "text/plain": [
       "70-80    182\n",
       "60-70     77\n",
       "80-90     60\n",
       "50-60     38\n",
       "40-50     34\n",
       "30-40     22\n",
       "20-30      3\n",
       "10-20      1\n",
       "Name: LAD, dtype: int64"
      ]
     },
     "execution_count": 114,
     "metadata": {},
     "output_type": "execute_result"
    }
   ],
   "source": [
    "df['LAD'].value_counts()"
   ]
  },
  {
   "cell_type": "code",
   "execution_count": 115,
   "metadata": {},
   "outputs": [],
   "source": [
    "#replacing the NaN values with literal \"NA\"\n",
    "df[\"LAD\"].fillna('NA', inplace = True) "
   ]
  },
  {
   "cell_type": "code",
   "execution_count": 116,
   "metadata": {},
   "outputs": [
    {
     "data": {
      "text/plain": [
       "70-80    182\n",
       "NA        83\n",
       "60-70     77\n",
       "80-90     60\n",
       "50-60     38\n",
       "40-50     34\n",
       "30-40     22\n",
       "20-30      3\n",
       "10-20      1\n",
       "Name: LAD, dtype: int64"
      ]
     },
     "execution_count": 116,
     "metadata": {},
     "output_type": "execute_result"
    }
   ],
   "source": [
    "#displaying the values along with the frequency of column 'LAD'\n",
    "df['LAD'].value_counts()"
   ]
  },
  {
   "cell_type": "code",
   "execution_count": 117,
   "metadata": {},
   "outputs": [
    {
     "data": {
      "text/plain": [
       "6    182\n",
       "8     83\n",
       "5     77\n",
       "7     60\n",
       "4     38\n",
       "3     34\n",
       "2     22\n",
       "1      3\n",
       "0      1\n",
       "Name: LAD, dtype: int64"
      ]
     },
     "execution_count": 117,
     "metadata": {},
     "output_type": "execute_result"
    }
   ],
   "source": [
    "#as the data is catagrical,we are using label encoding to convert it into numeric values\n",
    "label_encoder = preprocessing.LabelEncoder()  \n",
    "df['LAD']= label_encoder.fit_transform(df['LAD']) \n",
    "df['LAD'].value_counts()"
   ]
  },
  {
   "cell_type": "code",
   "execution_count": 118,
   "metadata": {},
   "outputs": [
    {
     "data": {
      "text/plain": [
       "NA       316\n",
       "40-50     51\n",
       "30-40     36\n",
       "70-80     31\n",
       "20-30     28\n",
       "50-60     19\n",
       "60-70     11\n",
       "80-90      7\n",
       "10-20      1\n",
       "Name: CA, dtype: int64"
      ]
     },
     "execution_count": 118,
     "metadata": {},
     "output_type": "execute_result"
    }
   ],
   "source": [
    "#replacing the NaN values with literal \"NA\"\n",
    "df[\"CA\"].fillna('NA', inplace = True)\n",
    "#displaying the values along with the frequency of column 'CA'\n",
    "df['CA'].value_counts()"
   ]
  },
  {
   "cell_type": "code",
   "execution_count": 119,
   "metadata": {},
   "outputs": [
    {
     "data": {
      "text/plain": [
       "8    316\n",
       "3     51\n",
       "2     36\n",
       "6     31\n",
       "1     28\n",
       "4     19\n",
       "5     11\n",
       "7      7\n",
       "0      1\n",
       "Name: CA, dtype: int64"
      ]
     },
     "execution_count": 119,
     "metadata": {},
     "output_type": "execute_result"
    }
   ],
   "source": [
    "#as the data is catagrical,we are using label encoding to convert it into numeric values\n",
    "df['CA']= label_encoder.fit_transform(df['CA']) \n",
    "df['CA'].value_counts()"
   ]
  },
  {
   "cell_type": "code",
   "execution_count": 120,
   "metadata": {},
   "outputs": [
    {
     "data": {
      "text/plain": [
       "NA       171\n",
       "70-80     96\n",
       "40-50     56\n",
       "60-70     46\n",
       "30-40     46\n",
       "50-60     32\n",
       "80-90     25\n",
       "20-30     25\n",
       "10-20      3\n",
       "Name: RCA, dtype: int64"
      ]
     },
     "execution_count": 120,
     "metadata": {},
     "output_type": "execute_result"
    }
   ],
   "source": [
    "#replacing the NaN values with literal \"NA\"\n",
    "df[\"RCA\"].fillna('NA', inplace = True)\n",
    "#displaying the values along with the frequency of column 'CA'\n",
    "df['RCA'].value_counts()"
   ]
  },
  {
   "cell_type": "code",
   "execution_count": 121,
   "metadata": {},
   "outputs": [
    {
     "data": {
      "text/plain": [
       "8    171\n",
       "6     96\n",
       "3     56\n",
       "5     46\n",
       "2     46\n",
       "4     32\n",
       "7     25\n",
       "1     25\n",
       "0      3\n",
       "Name: RCA, dtype: int64"
      ]
     },
     "execution_count": 121,
     "metadata": {},
     "output_type": "execute_result"
    }
   ],
   "source": [
    "#as the data is catagrical,we are using label encoding to convert it into numeric values\n",
    "df['RCA']= label_encoder.fit_transform(df['RCA']) \n",
    "df['RCA'].value_counts()"
   ]
  },
  {
   "cell_type": "code",
   "execution_count": 122,
   "metadata": {},
   "outputs": [
    {
     "data": {
      "text/plain": [
       "NA       329\n",
       "40-50     54\n",
       "30-40     50\n",
       "20-30     26\n",
       "50-60     17\n",
       "70-80      9\n",
       "60-70      7\n",
       "10-20      5\n",
       "80-90      2\n",
       "50-40      1\n",
       "Name: OM, dtype: int64"
      ]
     },
     "execution_count": 122,
     "metadata": {},
     "output_type": "execute_result"
    }
   ],
   "source": [
    "#replacing the NaN values with literal \"NA\"\n",
    "df[\"OM\"].fillna('NA', inplace = True)\n",
    "#displaying the values along with the frequency of column 'OM'\n",
    "df['OM'].value_counts()"
   ]
  },
  {
   "cell_type": "code",
   "execution_count": 123,
   "metadata": {},
   "outputs": [
    {
     "data": {
      "text/plain": [
       "9    329\n",
       "3     54\n",
       "2     50\n",
       "1     26\n",
       "5     17\n",
       "7      9\n",
       "6      7\n",
       "0      5\n",
       "8      2\n",
       "4      1\n",
       "Name: OM, dtype: int64"
      ]
     },
     "execution_count": 123,
     "metadata": {},
     "output_type": "execute_result"
    }
   ],
   "source": [
    "#as the data is catagrical,we are using label encoding to convert it into numeric values\n",
    "df['OM']= label_encoder.fit_transform(df['OM']) \n",
    "df['OM'].value_counts()"
   ]
  },
  {
   "cell_type": "code",
   "execution_count": 124,
   "metadata": {},
   "outputs": [
    {
     "data": {
      "text/plain": [
       "NA       314\n",
       "40-50     61\n",
       "30-40     54\n",
       "20-30     45\n",
       "60-70      9\n",
       "50-60      8\n",
       "10-20      5\n",
       "70-80      4\n",
       "Name: LPD, dtype: int64"
      ]
     },
     "execution_count": 124,
     "metadata": {},
     "output_type": "execute_result"
    }
   ],
   "source": [
    "#replacing the NaN values with literal \"NA\"\n",
    "df[\"LPD\"].fillna('NA', inplace = True)\n",
    "#displaying the values along with the frequency of column 'LPD'\n",
    "df['LPD'].value_counts()"
   ]
  },
  {
   "cell_type": "code",
   "execution_count": 125,
   "metadata": {},
   "outputs": [
    {
     "data": {
      "text/plain": [
       "7    314\n",
       "3     61\n",
       "2     54\n",
       "1     45\n",
       "5      9\n",
       "4      8\n",
       "0      5\n",
       "6      4\n",
       "Name: LPD, dtype: int64"
      ]
     },
     "execution_count": 125,
     "metadata": {},
     "output_type": "execute_result"
    }
   ],
   "source": [
    "#as the data is catagrical,we are using label encoding to convert it into numeric values\n",
    "df['LPD']= label_encoder.fit_transform(df['LPD']) \n",
    "df['LPD'].value_counts()"
   ]
  },
  {
   "cell_type": "code",
   "execution_count": 126,
   "metadata": {},
   "outputs": [
    {
     "data": {
      "text/plain": [
       "NA       330\n",
       "30-40     50\n",
       "40-50     49\n",
       "20-30     49\n",
       "50-60     14\n",
       "60-70      4\n",
       "10-20      2\n",
       "40-30      1\n",
       "70-80      1\n",
       "Name: LCA, dtype: int64"
      ]
     },
     "execution_count": 126,
     "metadata": {},
     "output_type": "execute_result"
    }
   ],
   "source": [
    "#replacing the NaN values with literal \"NA\"\n",
    "df[\"LCA\"].fillna('NA', inplace = True)\n",
    "#displaying the values along with the frequency of column 'LCA'\n",
    "df['LCA'].value_counts()"
   ]
  },
  {
   "cell_type": "code",
   "execution_count": 127,
   "metadata": {},
   "outputs": [
    {
     "data": {
      "text/plain": [
       "8    330\n",
       "2     50\n",
       "4     49\n",
       "1     49\n",
       "5     14\n",
       "6      4\n",
       "0      2\n",
       "7      1\n",
       "3      1\n",
       "Name: LCA, dtype: int64"
      ]
     },
     "execution_count": 127,
     "metadata": {},
     "output_type": "execute_result"
    }
   ],
   "source": [
    "#as the data is catagrical,we are using label encoding to convert it into numeric values\n",
    "df['LCA']= label_encoder.fit_transform(df['LCA']) \n",
    "df['LCA'].value_counts()"
   ]
  },
  {
   "cell_type": "code",
   "execution_count": 128,
   "metadata": {},
   "outputs": [
    {
     "data": {
      "text/html": [
       "<div>\n",
       "<style scoped>\n",
       "    .dataframe tbody tr th:only-of-type {\n",
       "        vertical-align: middle;\n",
       "    }\n",
       "\n",
       "    .dataframe tbody tr th {\n",
       "        vertical-align: top;\n",
       "    }\n",
       "\n",
       "    .dataframe thead th {\n",
       "        text-align: right;\n",
       "    }\n",
       "</style>\n",
       "<table border=\"1\" class=\"dataframe\">\n",
       "  <thead>\n",
       "    <tr style=\"text-align: right;\">\n",
       "      <th></th>\n",
       "      <th>sex</th>\n",
       "      <th>age</th>\n",
       "      <th>smoking</th>\n",
       "      <th>chol</th>\n",
       "      <th>chest pain</th>\n",
       "      <th>max_hrt</th>\n",
       "      <th>bmi</th>\n",
       "      <th>pulse_rate</th>\n",
       "      <th>fbs</th>\n",
       "      <th>recg</th>\n",
       "      <th>slope</th>\n",
       "      <th>exang</th>\n",
       "      <th>LAD</th>\n",
       "      <th>CA</th>\n",
       "      <th>RCA</th>\n",
       "      <th>OM</th>\n",
       "      <th>LPD</th>\n",
       "      <th>LCA</th>\n",
       "      <th>stent</th>\n",
       "      <th>Unnamed: 25</th>\n",
       "    </tr>\n",
       "  </thead>\n",
       "  <tbody>\n",
       "    <tr>\n",
       "      <td>count</td>\n",
       "      <td>500.000000</td>\n",
       "      <td>492.000000</td>\n",
       "      <td>500.000000</td>\n",
       "      <td>441.000000</td>\n",
       "      <td>473.000000</td>\n",
       "      <td>460.000000</td>\n",
       "      <td>500.000000</td>\n",
       "      <td>480.000000</td>\n",
       "      <td>457.000000</td>\n",
       "      <td>456.000000</td>\n",
       "      <td>390.000000</td>\n",
       "      <td>394.000000</td>\n",
       "      <td>500.000000</td>\n",
       "      <td>500.000000</td>\n",
       "      <td>500.000000</td>\n",
       "      <td>500.000000</td>\n",
       "      <td>500.000000</td>\n",
       "      <td>500.00000</td>\n",
       "      <td>492.000000</td>\n",
       "      <td>0.0</td>\n",
       "    </tr>\n",
       "    <tr>\n",
       "      <td>mean</td>\n",
       "      <td>0.686000</td>\n",
       "      <td>7.319390</td>\n",
       "      <td>0.490000</td>\n",
       "      <td>15.359067</td>\n",
       "      <td>1.010571</td>\n",
       "      <td>12.227695</td>\n",
       "      <td>5.968007</td>\n",
       "      <td>10.919989</td>\n",
       "      <td>0.161926</td>\n",
       "      <td>0.478070</td>\n",
       "      <td>1.028462</td>\n",
       "      <td>1.401015</td>\n",
       "      <td>5.724000</td>\n",
       "      <td>6.294000</td>\n",
       "      <td>5.524000</td>\n",
       "      <td>6.918000</td>\n",
       "      <td>5.270000</td>\n",
       "      <td>6.17800</td>\n",
       "      <td>0.833333</td>\n",
       "      <td>NaN</td>\n",
       "    </tr>\n",
       "    <tr>\n",
       "      <td>std</td>\n",
       "      <td>0.464581</td>\n",
       "      <td>0.642765</td>\n",
       "      <td>0.500401</td>\n",
       "      <td>1.651233</td>\n",
       "      <td>1.003117</td>\n",
       "      <td>1.004776</td>\n",
       "      <td>0.863092</td>\n",
       "      <td>1.665596</td>\n",
       "      <td>0.368786</td>\n",
       "      <td>0.517349</td>\n",
       "      <td>1.183666</td>\n",
       "      <td>0.614994</td>\n",
       "      <td>1.645978</td>\n",
       "      <td>2.486751</td>\n",
       "      <td>2.344444</td>\n",
       "      <td>3.066935</td>\n",
       "      <td>2.371571</td>\n",
       "      <td>2.69385</td>\n",
       "      <td>0.755608</td>\n",
       "      <td>NaN</td>\n",
       "    </tr>\n",
       "    <tr>\n",
       "      <td>min</td>\n",
       "      <td>0.000000</td>\n",
       "      <td>5.385165</td>\n",
       "      <td>0.000000</td>\n",
       "      <td>10.198039</td>\n",
       "      <td>0.000000</td>\n",
       "      <td>8.426150</td>\n",
       "      <td>4.369210</td>\n",
       "      <td>7.745967</td>\n",
       "      <td>0.000000</td>\n",
       "      <td>0.000000</td>\n",
       "      <td>0.000000</td>\n",
       "      <td>0.000000</td>\n",
       "      <td>0.000000</td>\n",
       "      <td>0.000000</td>\n",
       "      <td>0.000000</td>\n",
       "      <td>0.000000</td>\n",
       "      <td>0.000000</td>\n",
       "      <td>0.00000</td>\n",
       "      <td>0.000000</td>\n",
       "      <td>NaN</td>\n",
       "    </tr>\n",
       "    <tr>\n",
       "      <td>25%</td>\n",
       "      <td>0.000000</td>\n",
       "      <td>6.855655</td>\n",
       "      <td>0.000000</td>\n",
       "      <td>14.317821</td>\n",
       "      <td>0.000000</td>\n",
       "      <td>11.704700</td>\n",
       "      <td>5.230679</td>\n",
       "      <td>9.473620</td>\n",
       "      <td>0.000000</td>\n",
       "      <td>0.000000</td>\n",
       "      <td>0.000000</td>\n",
       "      <td>1.000000</td>\n",
       "      <td>5.000000</td>\n",
       "      <td>4.000000</td>\n",
       "      <td>3.000000</td>\n",
       "      <td>3.000000</td>\n",
       "      <td>3.000000</td>\n",
       "      <td>4.00000</td>\n",
       "      <td>0.000000</td>\n",
       "      <td>NaN</td>\n",
       "    </tr>\n",
       "    <tr>\n",
       "      <td>50%</td>\n",
       "      <td>1.000000</td>\n",
       "      <td>7.416198</td>\n",
       "      <td>0.000000</td>\n",
       "      <td>15.329710</td>\n",
       "      <td>1.000000</td>\n",
       "      <td>12.389495</td>\n",
       "      <td>6.031996</td>\n",
       "      <td>11.090537</td>\n",
       "      <td>0.000000</td>\n",
       "      <td>0.000000</td>\n",
       "      <td>0.800000</td>\n",
       "      <td>1.000000</td>\n",
       "      <td>6.000000</td>\n",
       "      <td>8.000000</td>\n",
       "      <td>6.000000</td>\n",
       "      <td>9.000000</td>\n",
       "      <td>7.000000</td>\n",
       "      <td>8.00000</td>\n",
       "      <td>1.000000</td>\n",
       "      <td>NaN</td>\n",
       "    </tr>\n",
       "    <tr>\n",
       "      <td>75%</td>\n",
       "      <td>1.000000</td>\n",
       "      <td>7.810250</td>\n",
       "      <td>1.000000</td>\n",
       "      <td>16.462078</td>\n",
       "      <td>2.000000</td>\n",
       "      <td>13.000000</td>\n",
       "      <td>6.741847</td>\n",
       "      <td>12.449900</td>\n",
       "      <td>0.000000</td>\n",
       "      <td>1.000000</td>\n",
       "      <td>1.600000</td>\n",
       "      <td>2.000000</td>\n",
       "      <td>7.000000</td>\n",
       "      <td>8.000000</td>\n",
       "      <td>8.000000</td>\n",
       "      <td>9.000000</td>\n",
       "      <td>7.000000</td>\n",
       "      <td>8.00000</td>\n",
       "      <td>1.000000</td>\n",
       "      <td>NaN</td>\n",
       "    </tr>\n",
       "    <tr>\n",
       "      <td>max</td>\n",
       "      <td>1.000000</td>\n",
       "      <td>8.774964</td>\n",
       "      <td>1.000000</td>\n",
       "      <td>23.748684</td>\n",
       "      <td>3.000000</td>\n",
       "      <td>14.212670</td>\n",
       "      <td>7.340300</td>\n",
       "      <td>13.416408</td>\n",
       "      <td>1.000000</td>\n",
       "      <td>2.000000</td>\n",
       "      <td>6.200000</td>\n",
       "      <td>2.000000</td>\n",
       "      <td>8.000000</td>\n",
       "      <td>8.000000</td>\n",
       "      <td>8.000000</td>\n",
       "      <td>9.000000</td>\n",
       "      <td>7.000000</td>\n",
       "      <td>8.00000</td>\n",
       "      <td>3.000000</td>\n",
       "      <td>NaN</td>\n",
       "    </tr>\n",
       "  </tbody>\n",
       "</table>\n",
       "</div>"
      ],
      "text/plain": [
       "              sex         age     smoking        chol  chest pain     max_hrt  \\\n",
       "count  500.000000  492.000000  500.000000  441.000000  473.000000  460.000000   \n",
       "mean     0.686000    7.319390    0.490000   15.359067    1.010571   12.227695   \n",
       "std      0.464581    0.642765    0.500401    1.651233    1.003117    1.004776   \n",
       "min      0.000000    5.385165    0.000000   10.198039    0.000000    8.426150   \n",
       "25%      0.000000    6.855655    0.000000   14.317821    0.000000   11.704700   \n",
       "50%      1.000000    7.416198    0.000000   15.329710    1.000000   12.389495   \n",
       "75%      1.000000    7.810250    1.000000   16.462078    2.000000   13.000000   \n",
       "max      1.000000    8.774964    1.000000   23.748684    3.000000   14.212670   \n",
       "\n",
       "              bmi  pulse_rate         fbs        recg       slope       exang  \\\n",
       "count  500.000000  480.000000  457.000000  456.000000  390.000000  394.000000   \n",
       "mean     5.968007   10.919989    0.161926    0.478070    1.028462    1.401015   \n",
       "std      0.863092    1.665596    0.368786    0.517349    1.183666    0.614994   \n",
       "min      4.369210    7.745967    0.000000    0.000000    0.000000    0.000000   \n",
       "25%      5.230679    9.473620    0.000000    0.000000    0.000000    1.000000   \n",
       "50%      6.031996   11.090537    0.000000    0.000000    0.800000    1.000000   \n",
       "75%      6.741847   12.449900    0.000000    1.000000    1.600000    2.000000   \n",
       "max      7.340300   13.416408    1.000000    2.000000    6.200000    2.000000   \n",
       "\n",
       "              LAD          CA         RCA          OM         LPD        LCA  \\\n",
       "count  500.000000  500.000000  500.000000  500.000000  500.000000  500.00000   \n",
       "mean     5.724000    6.294000    5.524000    6.918000    5.270000    6.17800   \n",
       "std      1.645978    2.486751    2.344444    3.066935    2.371571    2.69385   \n",
       "min      0.000000    0.000000    0.000000    0.000000    0.000000    0.00000   \n",
       "25%      5.000000    4.000000    3.000000    3.000000    3.000000    4.00000   \n",
       "50%      6.000000    8.000000    6.000000    9.000000    7.000000    8.00000   \n",
       "75%      7.000000    8.000000    8.000000    9.000000    7.000000    8.00000   \n",
       "max      8.000000    8.000000    8.000000    9.000000    7.000000    8.00000   \n",
       "\n",
       "            stent  Unnamed: 25  \n",
       "count  492.000000          0.0  \n",
       "mean     0.833333          NaN  \n",
       "std      0.755608          NaN  \n",
       "min      0.000000          NaN  \n",
       "25%      0.000000          NaN  \n",
       "50%      1.000000          NaN  \n",
       "75%      1.000000          NaN  \n",
       "max      3.000000          NaN  "
      ]
     },
     "execution_count": 128,
     "metadata": {},
     "output_type": "execute_result"
    }
   ],
   "source": [
    "#as we have converted the data into numeric form,we are checking the statistical data of the columns\n",
    "df.describe()"
   ]
  },
  {
   "cell_type": "code",
   "execution_count": 129,
   "metadata": {},
   "outputs": [
    {
     "data": {
      "text/plain": [
       "<matplotlib.axes._subplots.AxesSubplot at 0x29924cabac8>"
      ]
     },
     "execution_count": 129,
     "metadata": {},
     "output_type": "execute_result"
    },
    {
     "data": {
      "image/png": "[encoded data removed]",
      "text/plain": [
       "<Figure size 1440x360 with 1 Axes>"
      ]
     },
     "metadata": {
      "needs_background": "light"
     },
     "output_type": "display_data"
    }
   ],
   "source": [
    "#the standard deviation of the column 'OM' is high,we need to transform it\n",
    "#plotting the histogram of column 'pulse_rate' to check its skewness\n",
    "df['OM'].plot.hist(bins=20,figsize=(20,5))\n"
   ]
  },
  {
   "cell_type": "code",
   "execution_count": 130,
   "metadata": {},
   "outputs": [
    {
     "data": {
      "text/plain": [
       "count    500.000000\n",
       "mean       2.527739\n",
       "std        0.727732\n",
       "min        0.000000\n",
       "25%        1.732051\n",
       "50%        3.000000\n",
       "75%        3.000000\n",
       "max        3.000000\n",
       "Name: OM, dtype: float64"
      ]
     },
     "execution_count": 130,
     "metadata": {},
     "output_type": "execute_result"
    }
   ],
   "source": [
    "#as the data is skewed,we are using square root transformation to remove the skewness\n",
    "OM_st= df.OM**(1/2)\n",
    "OM_st.describe()"
   ]
  },
  {
   "cell_type": "code",
   "execution_count": 131,
   "metadata": {},
   "outputs": [],
   "source": [
    "#now the standard deviation is near 1,so the skewness is removed\n"
   ]
  },
  {
   "cell_type": "code",
   "execution_count": 132,
   "metadata": {},
   "outputs": [],
   "source": [
    "#dropping the column consisting of skewed data\n",
    "df.drop('OM',axis=1,inplace=True)"
   ]
  },
  {
   "cell_type": "code",
   "execution_count": 133,
   "metadata": {},
   "outputs": [],
   "source": [
    "#inserting the series containing the transformed data into the dataset\n",
    "df.insert(15, \"OM\",OM_st,True) "
   ]
  },
  {
   "cell_type": "code",
   "execution_count": null,
   "metadata": {},
   "outputs": [],
   "source": []
  },
  {
   "cell_type": "code",
   "execution_count": 134,
   "metadata": {},
   "outputs": [
    {
     "name": "stdout",
     "output_type": "stream",
     "text": [
      "<class 'pandas.core.frame.DataFrame'>\n",
      "RangeIndex: 500 entries, 0 to 499\n",
      "Data columns (total 22 columns):\n",
      "sex            500 non-null uint8\n",
      "age            492 non-null float64\n",
      "smoking        500 non-null uint8\n",
      "chol           441 non-null float64\n",
      "chest pain     473 non-null float64\n",
      "max_hrt        460 non-null float64\n",
      "bmi            500 non-null float64\n",
      "pulse_rate     480 non-null float64\n",
      "rbp            445 non-null object\n",
      "fbs            457 non-null float64\n",
      "recg           456 non-null float64\n",
      "oldpeak        455 non-null object\n",
      "slope          390 non-null float64\n",
      "exang          394 non-null float64\n",
      "LAD            500 non-null int32\n",
      "OM             500 non-null float64\n",
      "CA             500 non-null int32\n",
      "RCA            500 non-null int32\n",
      "LPD            500 non-null int32\n",
      "LCA            500 non-null int32\n",
      "stent          492 non-null float64\n",
      "Unnamed: 25    0 non-null float64\n",
      "dtypes: float64(13), int32(5), object(2), uint8(2)\n",
      "memory usage: 69.5+ KB\n"
     ]
    }
   ],
   "source": [
    "#displayong the dataset structure to make sure the necessary changes are done\n",
    "df.info()"
   ]
  },
  {
   "cell_type": "code",
   "execution_count": 135,
   "metadata": {},
   "outputs": [],
   "source": [
    "#dropping the unnamed column consisting of all NaN values\n",
    "df.drop('Unnamed: 25',axis=1,inplace=True)"
   ]
  },
  {
   "cell_type": "code",
   "execution_count": 136,
   "metadata": {},
   "outputs": [],
   "source": [
    "#dropping the columns consisting of NaN values\n",
    "df.dropna(inplace=True)\n"
   ]
  },
  {
   "cell_type": "code",
   "execution_count": null,
   "metadata": {},
   "outputs": [],
   "source": []
  },
  {
   "cell_type": "code",
   "execution_count": 137,
   "metadata": {},
   "outputs": [
    {
     "data": {
      "text/plain": [
       "sex           0\n",
       "age           0\n",
       "smoking       0\n",
       "chol          0\n",
       "chest pain    0\n",
       "max_hrt       0\n",
       "bmi           0\n",
       "pulse_rate    0\n",
       "rbp           0\n",
       "fbs           0\n",
       "recg          0\n",
       "oldpeak       0\n",
       "slope         0\n",
       "exang         0\n",
       "LAD           0\n",
       "OM            0\n",
       "CA            0\n",
       "RCA           0\n",
       "LPD           0\n",
       "LCA           0\n",
       "stent         0\n",
       "dtype: int64"
      ]
     },
     "execution_count": 137,
     "metadata": {},
     "output_type": "execute_result"
    }
   ],
   "source": [
    "df.isnull().sum()"
   ]
  },
  {
   "cell_type": "code",
   "execution_count": 138,
   "metadata": {},
   "outputs": [
    {
     "data": {
      "text/plain": [
       "array([1, 0], dtype=uint64)"
      ]
     },
     "execution_count": 138,
     "metadata": {},
     "output_type": "execute_result"
    }
   ],
   "source": [
    "#checking all the unique values of column 'sex' to make sure its numeric\n",
    "df['sex'].unique()"
   ]
  },
  {
   "cell_type": "code",
   "execution_count": 139,
   "metadata": {},
   "outputs": [
    {
     "data": {
      "text/plain": [
       "array([7.21110255, 7.28010989, 8.36660027, 7.81024968, 7.87400787,\n",
       "       7.61577311, 7.93725393, 7.41619849, 6.78232998, 7.34846923,\n",
       "       8.42614977, 6.55743852, 5.83095189, 7.14142843, 7.07106781,\n",
       "       7.74596669, 8.18535277, 6.70820393, 6.4807407 , 6.63324958,\n",
       "       7.48331477, 7.54983444, 7.68114575, 8.        , 8.06225775,\n",
       "       6.40312424, 8.1240384 , 6.164414  , 7.        , 6.92820323,\n",
       "       5.38516481, 6.08276253, 6.8556546 , 8.24621125, 8.71779789,\n",
       "       6.32455532, 8.77496439, 6.244998  , 8.30662386, 5.91607978,\n",
       "       8.60232527])"
      ]
     },
     "execution_count": 139,
     "metadata": {},
     "output_type": "execute_result"
    }
   ],
   "source": [
    "#checking all the unique values of column 'sex' to make sure its numeric\n",
    "df['age'].unique()"
   ]
  },
  {
   "cell_type": "code",
   "execution_count": 140,
   "metadata": {},
   "outputs": [
    {
     "data": {
      "text/plain": [
       "array([1, 0], dtype=uint64)"
      ]
     },
     "execution_count": 140,
     "metadata": {},
     "output_type": "execute_result"
    }
   ],
   "source": [
    "#checking all the unique values of column 'smoking' to make sure its numeric\n",
    "df['smoking'].unique()"
   ]
  },
  {
   "cell_type": "code",
   "execution_count": 141,
   "metadata": {},
   "outputs": [
    {
     "data": {
      "text/plain": [
       "array([14.56021978, 14.24780685, 16.55294536, 17.1464282 , 15.74801575,\n",
       "       17.8325545 , 17.        , 15.77973384, 16.91153453, 12.20655562,\n",
       "       18.46618531, 14.49137675, 16.73320053, 14.28285686, 15.62049935,\n",
       "       14.52583905, 13.60147051, 14.93318452, 14.4222051 , 15.87450787,\n",
       "       14.45683229, 17.52141547, 15.26433752, 17.8605711 , 16.        ,\n",
       "       18.08314132, 13.        , 11.44552314, 16.40121947, 14.        ,\n",
       "       15.19868415, 14.59451952, 16.46207763, 16.21727474, 15.13274595,\n",
       "       18.97366596, 16.0623784 , 18.16590212, 18.49324201, 15.03329638,\n",
       "       15.09966887, 16.673332  , 16.82260384, 15.5241747 , 13.22875656,\n",
       "       13.7113092 , 14.73091986, 13.89244399, 15.65247584, 15.23154621,\n",
       "       16.97056275, 14.03566885, 17.74823935, 14.6628783 , 12.80624847,\n",
       "       18.05547009, 14.38749457, 13.3041347 , 16.03121954, 15.96871942,\n",
       "       13.67479433, 14.17744688, 14.83239697, 16.37070554, 16.34013464,\n",
       "       15.3622915 , 17.40689519, 16.79285562, 11.22497216, 17.57839583,\n",
       "       13.6381817 , 16.58312395, 17.29161647, 16.76305461, 14.35270009,\n",
       "       18.30300522, 14.76482306, 15.        , 18.02775638, 15.32970972,\n",
       "       15.29705854, 13.49073756, 12.92284798, 17.54992877, 12.52996409,\n",
       "       17.43559577, 14.89966443, 13.56465997, 11.66190379, 12.64911064,\n",
       "       15.71623365, 15.49193338, 14.10673598, 15.45962483, 15.68438714,\n",
       "       10.44030651, 13.41640786, 15.93737745, 15.8113883 , 14.86606875,\n",
       "       10.19803903, 16.1245155 , 14.14213562, 17.2626765 , 15.06651917,\n",
       "       13.34166406, 15.58845727, 16.30950643, 17.3781472 , 15.39480432,\n",
       "       14.96662955, 14.07124728, 13.85640646, 16.2788206 , 11.09053651,\n",
       "       12.76714533, 15.55634919, 14.69693846, 16.61324773, 17.94435844,\n",
       "       14.62873884, 16.43167673, 16.52271164, 15.90597372, 13.26649916,\n",
       "       18.78829423, 18.81488772, 17.4642492 , 12.9614814 , 14.31782106,\n",
       "       17.17556404, 15.16575089, 16.15549442, 23.74868417, 14.79864859,\n",
       "       17.69180601, 17.91647287, 13.11487705])"
      ]
     },
     "execution_count": 141,
     "metadata": {},
     "output_type": "execute_result"
    }
   ],
   "source": [
    "#checking all the unique values of column 'chol' to make sure its numeric\n",
    "df['chol'].unique()"
   ]
  },
  {
   "cell_type": "code",
   "execution_count": 142,
   "metadata": {},
   "outputs": [
    {
     "data": {
      "text/plain": [
       "array([0., 1., 2., 3.])"
      ]
     },
     "execution_count": 142,
     "metadata": {},
     "output_type": "execute_result"
    }
   ],
   "source": [
    "#checking all the unique values of column 'chest pain' to make sure its numeric\n",
    "df['chest pain'].unique()"
   ]
  },
  {
   "cell_type": "code",
   "execution_count": 143,
   "metadata": {},
   "outputs": [
    {
     "data": {
      "text/plain": [
       "array([12.9614814 , 12.4498996 , 11.18033989, 12.68857754, 10.29563014,\n",
       "       11.04536102, 11.83215957, 12.04159458, 12.        , 10.77032961,\n",
       "       11.66190379, 13.85640646, 12.489996  , 12.72792206, 12.84523258,\n",
       "       11.91637529, 12.16552506, 13.11487705, 13.15294644, 12.08304597,\n",
       "       13.37908816, 12.32882801, 10.81665383, 10.72380529, 10.58300524,\n",
       "       12.76714533, 12.12435565, 13.49073756, 10.24695077, 12.24744871,\n",
       "       12.28820573, 13.        , 12.88409873, 13.34166406, 11.48912529,\n",
       "       11.09053651, 11.78982612, 10.53565375, 13.41640786, 12.80624847,\n",
       "       14.2126704 , 12.52996409, 12.60952021, 13.03840481, 11.74734012,\n",
       "       13.22875656, 12.56980509, 11.22497216, 11.95826074, 12.64911064,\n",
       "       11.87434209, 12.92284798,  9.74679434, 13.78404875, 10.86278049,\n",
       "       10.14889157, 13.45362405, 10.39230485, 13.3041347 , 11.5758369 ,\n",
       "       12.40967365, 12.36931688,  9.38083152, 13.19090596, 10.67707825,\n",
       "       13.07669683, 11.53256259,  9.79795897, 11.13552873, 11.44552314,\n",
       "       13.60147051, 13.92838828, 11.3137085 , 11.26942767, 13.6381817 ,\n",
       "        8.42614977, 11.40175425, 11.70469991,  9.94987437, 12.20655562,\n",
       "       11.        , 10.95445115, 10.44030651, 13.67479433,  9.8488578 ,\n",
       "        9.48683298, 11.35781669, 13.56465997, 13.7113092 ])"
      ]
     },
     "execution_count": 143,
     "metadata": {},
     "output_type": "execute_result"
    }
   ],
   "source": [
    "#checking all the unique values of column 'max_hrt' to make sure its numeric\n",
    "df['max_hrt'].unique()"
   ]
  },
  {
   "cell_type": "code",
   "execution_count": 144,
   "metadata": {},
   "outputs": [
    {
     "data": {
      "text/plain": [
       "array([4.72228758, 7.10844568, 6.89129886, 4.82286222, 6.50922422,\n",
       "       4.54312668, 5.76974869, 4.36921045, 6.78159273, 5.64358042,\n",
       "       6.6053009 , 6.22334315, 5.29622507, 6.98856208, 5.20576603,\n",
       "       6.75943785, 5.53172667, 4.83011387, 5.33666563, 4.95983871,\n",
       "       5.66921511, 6.16116872, 6.31268564, 6.71714225, 5.61426754,\n",
       "       4.48218697, 4.621688  , 4.44409721, 6.97997135, 7.09929574,\n",
       "       4.49221549, 6.26178888, 4.96990946, 7.24913788, 5.39444158,\n",
       "       5.33479147, 5.89745708, 4.56508488, 4.41474801, 7.10914903,\n",
       "       6.61513416, 5.9126982 , 4.45084262, 6.86512928, 5.87026405,\n",
       "       6.89782574, 4.84355242, 4.97795139, 6.10573501, 6.47379332,\n",
       "       6.33798075, 6.7535176 , 4.98598034, 7.30342385, 5.58748602,\n",
       "       5.1555795 , 4.4609416 , 4.93659802, 7.2518963 , 6.83447145,\n",
       "       7.30753036, 7.22149569, 4.72757866, 5.04182507, 5.69736781,\n",
       "       6.73721011, 5.50363516, 4.9689033 , 5.16720427, 6.95413546,\n",
       "       6.55133574, 6.96203993, 5.96489732, 5.78878226, 7.20416546,\n",
       "       5.27636238, 5.70701323, 4.5310043 , 4.96487663, 6.34901567,\n",
       "       5.51815186, 5.50635996, 5.46076918, 6.00999168, 6.45368112,\n",
       "       6.43350604, 5.61515806, 5.83266663, 4.45308882, 6.03738354,\n",
       "       6.77126281, 6.83008053, 5.5       , 4.39317653, 5.21632054,\n",
       "       6.15629759, 5.28393793, 6.49615271, 7.3       , 5.800862  ,\n",
       "       6.90869018, 4.86106984, 7.14702735, 6.5169011 , 6.45832796,\n",
       "       6.46065012, 5.19326487, 7.23049099, 4.80312398, 4.80520551,\n",
       "       5.40370243, 6.6370174 , 7.0042844 , 5.03487835, 4.6260134 ,\n",
       "       5.98080262, 5.22589705, 6.16360284, 7.21456859, 5.52268051,\n",
       "       4.80104155, 5.41202365, 4.63357314, 4.60325971, 4.79165942,\n",
       "       6.36160357, 4.87134478, 6.1878914 , 7.22841615, 6.53911309,\n",
       "       5.24213697, 4.84045452, 6.62570751, 7.08096039, 5.45985348,\n",
       "       6.8767725 , 6.94694177, 6.50076919, 6.59469484, 5.80430874,\n",
       "       4.8259714 , 6.40312424, 6.27136349, 4.74447047, 7.00999287,\n",
       "       6.74240313, 7.08166647, 5.8       , 5.18555686, 5.22685374,\n",
       "       4.87237109, 5.49818152, 5.535341  , 7.11477336, 4.81663783,\n",
       "       4.90306027, 5.0447993 , 7.06753139, 7.15052446, 6.74166152,\n",
       "       6.61815684, 5.92958683, 5.54346462, 4.48776113, 5.71489282,\n",
       "       7.33757453, 6.10409698, 6.02494813, 6.9332532 , 6.59393661,\n",
       "       6.57495247, 7.05832841, 7.25465368, 5.49727205, 6.46451854,\n",
       "       5.5883808 , 4.64650406, 6.61286625, 5.53624421, 7.22495675,\n",
       "       5.51271258, 6.61362231, 6.83081254, 5.92368129, 5.39073279,\n",
       "       7.3054774 , 6.83959063, 6.39061812, 6.82788401, 7.11617875,\n",
       "       5.88897275, 5.83180932, 6.38748777, 6.1619802 , 5.0029991 ,\n",
       "       5.85832741, 7.14072825, 7.01783442, 4.5508241 , 4.95580468,\n",
       "       5.57942649, 4.60543158, 6.58710862, 4.55850853, 6.12372436,\n",
       "       6.05144611, 6.28808397, 4.58257569, 5.98832197, 5.31224999,\n",
       "       6.49076267, 6.78306715, 6.6633325 , 6.97423831, 6.5283995 ,\n",
       "       6.4007812 , 5.5767374 , 6.57343137, 5.63205114, 6.94622199,\n",
       "       7.07530918, 4.70425339, 6.0149813 , 5.6488937 , 6.1147363 ,\n",
       "       6.12535713, 4.5       , 6.3023805 , 6.64304147, 6.51766829,\n",
       "       5.75152154, 4.58148448, 4.51663592, 6.90289794, 5.25832673,\n",
       "       6.73424086, 7.13091859, 7.31231837, 6.62495283, 7.27461339,\n",
       "       7.16937933, 7.02780193, 4.46430286, 7.1063352 , 6.94406221,\n",
       "       6.22414653, 5.9       , 4.91934955, 5.59553393, 6.68580586,\n",
       "       5.87962584, 5.71664237, 6.47456562, 6.63098786, 6.69626762,\n",
       "       6.37102817, 5.26117858, 7.32393337, 6.48228355, 6.64680374,\n",
       "       7.29109045, 5.61248608, 6.41404708, 5.69209979, 7.07248188,\n",
       "       6.62947962, 6.01331855, 6.79852925, 4.45533388, 6.67682559,\n",
       "       7.19374728, 4.8754487 , 5.23067873, 6.44592895, 4.70850295,\n",
       "       7.2       , 6.16035713, 6.57723346, 5.98999165, 6.67158152,\n",
       "       6.38670494, 6.58559033, 5.53353413, 5.49636243, 5.37215041,\n",
       "       4.61627556, 6.13351449, 5.14490039, 6.19677335, 5.50817574,\n",
       "       6.5916614 , 5.59195851, 7.16100552, 6.55743852, 5.46534537,\n",
       "       6.10900974, 7.01640934, 5.43323108, 4.44522215, 4.63465209,\n",
       "       4.8948953 , 5.31883446, 6.80955211, 7.05195008, 4.85901225,\n",
       "       6.99785681, 6.06712452, 7.12671032, 5.73498038, 4.88671669,\n",
       "       7.03775532, 4.99099189, 7.1042241 , 6.39531078, 6.02660767,\n",
       "       5.23832034, 4.88364618, 6.58483105, 5.95231048, 6.14654374,\n",
       "       6.77421582, 4.75289386, 6.09097693, 4.98798557, 4.84252001,\n",
       "       6.8571131 , 6.77273948, 4.82389884, 6.37024332, 6.5345237 ,\n",
       "       6.46606526, 5.24499762, 6.96562991, 7.03846574])"
      ]
     },
     "execution_count": 144,
     "metadata": {},
     "output_type": "execute_result"
    }
   ],
   "source": [
    "#checking all the unique values of column 'bmi' to make sure its numeric\n",
    "df['bmi'].unique()"
   ]
  },
  {
   "cell_type": "code",
   "execution_count": 145,
   "metadata": {},
   "outputs": [
    {
     "data": {
      "text/plain": [
       "array([ 9.53939201,  7.81024968, 12.84523258,  8.83176087, 11.13552873,\n",
       "       12.40967365,  9.2736185 ,  8.30662386, 11.18033989, 12.80624847,\n",
       "       10.67707825, 13.03840481, 10.24695077, 11.22497216,  8.36660027,\n",
       "       10.04987562, 13.11487705, 12.28820573, 12.4498996 ,  9.64365076,\n",
       "       12.9614814 , 11.35781669, 10.        ,  8.1240384 , 13.37908816,\n",
       "        8.42614977, 11.53256259, 12.68857754, 12.76714533, 12.08304597,\n",
       "       10.44030651, 13.15294644, 12.52996409, 10.86278049, 11.74734012,\n",
       "        9.16515139,  9.94987437, 10.53565375, 11.09053651, 12.12435565,\n",
       "        9.21954446, 12.489996  , 12.92284798, 11.3137085 , 11.        ,\n",
       "       10.48808848,  8.88819442,  9.69535971, 10.09950494,  8.24621125,\n",
       "       10.29563014, 11.40175425,  9.43398113, 11.44552314, 13.22875656,\n",
       "       13.3041347 ,  8.94427191, 11.26942767,  9.        , 10.90871211,\n",
       "       10.77032961,  9.89949494, 10.63014581,  9.11043358, 11.48912529,\n",
       "       11.04536102,  8.54400375, 12.88409873, 11.91637529,  9.32737905,\n",
       "        9.79795897, 13.19090596, 11.87434209,  8.71779789, 10.72380529,\n",
       "        7.93725393, 13.        ,  8.        ,  9.05538514, 10.19803903,\n",
       "        8.66025404, 11.83215957, 12.20655562,  9.74679434,  8.18535277,\n",
       "        8.48528137, 13.34166406, 12.24744871, 10.58300524, 12.60952021,\n",
       "        9.59166305, 11.95826074, 12.36931688,  9.8488578 , 10.14889157,\n",
       "       12.56980509, 13.07669683,  7.74596669, 12.        , 11.66190379,\n",
       "        9.38083152, 11.61895004, 13.41640786, 11.5758369 , 12.72792206,\n",
       "       10.39230485, 10.95445115, 12.16552506, 12.04159458, 12.32882801,\n",
       "       10.34408043, 10.81665383, 13.26649916, 11.78982612,  8.77496439])"
      ]
     },
     "execution_count": 145,
     "metadata": {},
     "output_type": "execute_result"
    }
   ],
   "source": [
    "#checking all the unique values of column 'pulse_rate' to make sure its numeric\n",
    "df['pulse_rate'].unique()"
   ]
  },
  {
   "cell_type": "code",
   "execution_count": 146,
   "metadata": {},
   "outputs": [
    {
     "data": {
      "text/plain": [
       "array(['125', '140', '145', '148', '138', '100', '114', '160', '120',\n",
       "       '122', '112', '132', '118', '128', '106', '104', '135', '130',\n",
       "       '136', '180', '129', '150', '178', '146', '152', '154', '170',\n",
       "       '124', '134', '174', '144', '108', '123', '110', '142', '126',\n",
       "       '115', '94', '200', '165', '102', '105', 'NaN', '172', '164'],\n",
       "      dtype=object)"
      ]
     },
     "execution_count": 146,
     "metadata": {},
     "output_type": "execute_result"
    }
   ],
   "source": [
    "#checking all the unique values of column 'rbp' to make sure its numeric\n",
    "df['rbp'].unique()"
   ]
  },
  {
   "cell_type": "code",
   "execution_count": 147,
   "metadata": {},
   "outputs": [],
   "source": [
    "#the values of column 'rbp' are catagorical"
   ]
  },
  {
   "cell_type": "code",
   "execution_count": 148,
   "metadata": {},
   "outputs": [
    {
     "data": {
      "text/plain": [
       "array([0., 1.])"
      ]
     },
     "execution_count": 148,
     "metadata": {},
     "output_type": "execute_result"
    }
   ],
   "source": [
    "#checking all the unique values of column 'fbs' to make sure its numeric\n",
    "df['fbs'].unique()"
   ]
  },
  {
   "cell_type": "code",
   "execution_count": 149,
   "metadata": {},
   "outputs": [
    {
     "data": {
      "text/plain": [
       "array([1., 0., 2.])"
      ]
     },
     "execution_count": 149,
     "metadata": {},
     "output_type": "execute_result"
    }
   ],
   "source": [
    "#checking all the unique values of column 'recg' to make sure its numeric\n",
    "df['recg'].unique()"
   ]
  },
  {
   "cell_type": "code",
   "execution_count": 150,
   "metadata": {},
   "outputs": [
    {
     "data": {
      "text/plain": [
       "array(['0', '1'], dtype=object)"
      ]
     },
     "execution_count": 150,
     "metadata": {},
     "output_type": "execute_result"
    }
   ],
   "source": [
    "#checking all the unique values of column 'oldpeak' to make sure its numeric\n",
    "df['oldpeak'].unique()"
   ]
  },
  {
   "cell_type": "code",
   "execution_count": 151,
   "metadata": {},
   "outputs": [],
   "source": [
    "#the values of the column 'oldpeak' is catagorical"
   ]
  },
  {
   "cell_type": "code",
   "execution_count": 152,
   "metadata": {},
   "outputs": [
    {
     "data": {
      "text/plain": [
       "array([1. , 3.1, 2.6, 0. , 1.9, 4.4, 0.8, 3.2, 1.6, 3. , 0.7, 4.2, 1.1,\n",
       "       0.3, 0.4, 0.6, 3.4, 2.8, 1.2, 2.9, 3.6, 1.4, 0.2, 2. , 5.6, 1.8,\n",
       "       6.2, 4. , 2.2, 0.1, 0.5, 2.1, 1.5, 0.9, 3.8, 1.3, 2.4, 3.5, 2.3])"
      ]
     },
     "execution_count": 152,
     "metadata": {},
     "output_type": "execute_result"
    }
   ],
   "source": [
    "#checking all the unique values of column 'slope' to make sure its numeric\n",
    "df['slope'].unique()"
   ]
  },
  {
   "cell_type": "code",
   "execution_count": 153,
   "metadata": {},
   "outputs": [
    {
     "data": {
      "text/plain": [
       "array([2., 0., 1.])"
      ]
     },
     "execution_count": 153,
     "metadata": {},
     "output_type": "execute_result"
    }
   ],
   "source": [
    "#checking all the unique values of column 'exang' to make sure its numeric\n",
    "df['exang'].unique()"
   ]
  },
  {
   "cell_type": "code",
   "execution_count": 154,
   "metadata": {},
   "outputs": [
    {
     "data": {
      "text/plain": [
       "array([4, 6, 7, 3, 5, 8, 2, 1, 0], dtype=int64)"
      ]
     },
     "execution_count": 154,
     "metadata": {},
     "output_type": "execute_result"
    }
   ],
   "source": [
    "#checking all the unique values of column 'LAD' to make sure its numeric\n",
    "df['LAD'].unique()"
   ]
  },
  {
   "cell_type": "code",
   "execution_count": 155,
   "metadata": {},
   "outputs": [
    {
     "data": {
      "text/plain": [
       "array([1.        , 3.        , 1.73205081, 1.41421356, 2.82842712,\n",
       "       2.64575131, 2.23606798, 2.44948974, 2.        , 0.        ])"
      ]
     },
     "execution_count": 155,
     "metadata": {},
     "output_type": "execute_result"
    }
   ],
   "source": [
    "#checking all the unique values of column 'OM' to make sure its numeric\n",
    "df['OM'].unique()"
   ]
  },
  {
   "cell_type": "code",
   "execution_count": 156,
   "metadata": {},
   "outputs": [
    {
     "data": {
      "text/plain": [
       "array([8, 4, 5, 7, 2, 6, 3, 1], dtype=int64)"
      ]
     },
     "execution_count": 156,
     "metadata": {},
     "output_type": "execute_result"
    }
   ],
   "source": [
    "#checking all the unique values of column 'CA' to make sure its numeric\n",
    "df['CA'].unique()"
   ]
  },
  {
   "cell_type": "code",
   "execution_count": 157,
   "metadata": {},
   "outputs": [
    {
     "data": {
      "text/plain": [
       "array([7, 3, 6, 8, 4, 2, 5, 1, 0], dtype=int64)"
      ]
     },
     "execution_count": 157,
     "metadata": {},
     "output_type": "execute_result"
    }
   ],
   "source": [
    "#checking all the unique values of column 'RCA' to make sure its numeric\n",
    "df['RCA'].unique()"
   ]
  },
  {
   "cell_type": "code",
   "execution_count": 158,
   "metadata": {},
   "outputs": [
    {
     "data": {
      "text/plain": [
       "array([7, 2, 3, 1, 0, 5, 6, 4], dtype=int64)"
      ]
     },
     "execution_count": 158,
     "metadata": {},
     "output_type": "execute_result"
    }
   ],
   "source": [
    "#checking all the unique values of column 'LPD' to make sure its numeric\n",
    "df['LPD'].unique()"
   ]
  },
  {
   "cell_type": "code",
   "execution_count": 159,
   "metadata": {},
   "outputs": [
    {
     "data": {
      "text/plain": [
       "array([2, 8, 1, 3, 4, 6, 0, 5], dtype=int64)"
      ]
     },
     "execution_count": 159,
     "metadata": {},
     "output_type": "execute_result"
    }
   ],
   "source": [
    "#checking all the unique values of column 'LCA' to make sure its numeric\n",
    "df['LCA'].unique()"
   ]
  },
  {
   "cell_type": "code",
   "execution_count": 160,
   "metadata": {},
   "outputs": [
    {
     "data": {
      "text/plain": [
       "array([1., 2., 0., 3.])"
      ]
     },
     "execution_count": 160,
     "metadata": {},
     "output_type": "execute_result"
    }
   ],
   "source": [
    "#checking all the unique values of column 'stent' to make sure its numeric\n",
    "df['stent'].unique()"
   ]
  },
  {
   "cell_type": "code",
   "execution_count": 161,
   "metadata": {},
   "outputs": [
    {
     "data": {
      "text/plain": [
       "11    44\n",
       "19    37\n",
       "25    30\n",
       "31    27\n",
       "6     24\n",
       "34    17\n",
       "24    15\n",
       "17    13\n",
       "20    13\n",
       "10     9\n",
       "15     9\n",
       "12     7\n",
       "32     7\n",
       "7      7\n",
       "21     7\n",
       "37     6\n",
       "14     6\n",
       "5      6\n",
       "22     6\n",
       "23     4\n",
       "9      4\n",
       "0      4\n",
       "28     4\n",
       "26     4\n",
       "27     3\n",
       "29     3\n",
       "16     3\n",
       "30     3\n",
       "3      3\n",
       "43     2\n",
       "40     2\n",
       "1      2\n",
       "2      2\n",
       "42     2\n",
       "41     2\n",
       "36     2\n",
       "39     2\n",
       "18     2\n",
       "8      1\n",
       "38     1\n",
       "35     1\n",
       "4      1\n",
       "13     1\n",
       "33     1\n",
       "44     1\n",
       "Name: rbp, dtype: int64"
      ]
     },
     "execution_count": 161,
     "metadata": {},
     "output_type": "execute_result"
    }
   ],
   "source": [
    "#since the data values of column 'rbp' was catagorical,we converted it into numeric data using line encoding\n",
    "df['rbp']= label_encoder.fit_transform(df['rbp']) \n",
    "df['rbp'].value_counts()"
   ]
  },
  {
   "cell_type": "code",
   "execution_count": 162,
   "metadata": {},
   "outputs": [
    {
     "data": {
      "text/plain": [
       "0    229\n",
       "1    121\n",
       "Name: oldpeak, dtype: int64"
      ]
     },
     "execution_count": 162,
     "metadata": {},
     "output_type": "execute_result"
    }
   ],
   "source": [
    "#since the data values of column 'oldpeak' was catagorical,we converted it into numeric data using line encoding\n",
    "df['oldpeak']= label_encoder.fit_transform(df['oldpeak']) \n",
    "df['oldpeak'].value_counts()"
   ]
  },
  {
   "cell_type": "code",
   "execution_count": 163,
   "metadata": {},
   "outputs": [
    {
     "name": "stdout",
     "output_type": "stream",
     "text": [
      "<class 'pandas.core.frame.DataFrame'>\n",
      "Int64Index: 350 entries, 0 to 491\n",
      "Data columns (total 21 columns):\n",
      "sex           350 non-null uint8\n",
      "age           350 non-null float64\n",
      "smoking       350 non-null uint8\n",
      "chol          350 non-null float64\n",
      "chest pain    350 non-null float64\n",
      "max_hrt       350 non-null float64\n",
      "bmi           350 non-null float64\n",
      "pulse_rate    350 non-null float64\n",
      "rbp           350 non-null int32\n",
      "fbs           350 non-null float64\n",
      "recg          350 non-null float64\n",
      "oldpeak       350 non-null int32\n",
      "slope         350 non-null float64\n",
      "exang         350 non-null float64\n",
      "LAD           350 non-null int32\n",
      "OM            350 non-null float64\n",
      "CA            350 non-null int32\n",
      "RCA           350 non-null int32\n",
      "LPD           350 non-null int32\n",
      "LCA           350 non-null int32\n",
      "stent         350 non-null float64\n",
      "dtypes: float64(12), int32(7), uint8(2)\n",
      "memory usage: 45.8 KB\n"
     ]
    }
   ],
   "source": [
    "df.info()"
   ]
  },
  {
   "cell_type": "code",
   "execution_count": 164,
   "metadata": {},
   "outputs": [],
   "source": [
    "#now all the values are in numeric form,we can calculate its f-value and probability to select the most relevant columns"
   ]
  },
  {
   "cell_type": "code",
   "execution_count": 165,
   "metadata": {},
   "outputs": [],
   "source": [
    "#X:input data or the independent variables\n",
    "#y:output data or the dependent variable"
   ]
  },
  {
   "cell_type": "code",
   "execution_count": 166,
   "metadata": {},
   "outputs": [],
   "source": [
    "X = df.drop('stent',axis=1)\n",
    "y=df['stent']\n"
   ]
  },
  {
   "cell_type": "code",
   "execution_count": 167,
   "metadata": {},
   "outputs": [
    {
     "data": {
      "text/html": [
       "<div>\n",
       "<style scoped>\n",
       "    .dataframe tbody tr th:only-of-type {\n",
       "        vertical-align: middle;\n",
       "    }\n",
       "\n",
       "    .dataframe tbody tr th {\n",
       "        vertical-align: top;\n",
       "    }\n",
       "\n",
       "    .dataframe thead th {\n",
       "        text-align: right;\n",
       "    }\n",
       "</style>\n",
       "<table border=\"1\" class=\"dataframe\">\n",
       "  <thead>\n",
       "    <tr style=\"text-align: right;\">\n",
       "      <th></th>\n",
       "      <th>sex</th>\n",
       "      <th>age</th>\n",
       "      <th>smoking</th>\n",
       "      <th>chol</th>\n",
       "      <th>chest pain</th>\n",
       "      <th>max_hrt</th>\n",
       "      <th>bmi</th>\n",
       "      <th>pulse_rate</th>\n",
       "      <th>rbp</th>\n",
       "      <th>fbs</th>\n",
       "      <th>recg</th>\n",
       "      <th>oldpeak</th>\n",
       "      <th>slope</th>\n",
       "      <th>exang</th>\n",
       "      <th>LAD</th>\n",
       "      <th>OM</th>\n",
       "      <th>CA</th>\n",
       "      <th>RCA</th>\n",
       "      <th>LPD</th>\n",
       "      <th>LCA</th>\n",
       "    </tr>\n",
       "  </thead>\n",
       "  <tbody>\n",
       "    <tr>\n",
       "      <td>F-value</td>\n",
       "      <td>4.690801</td>\n",
       "      <td>5.600983</td>\n",
       "      <td>1.219611e+01</td>\n",
       "      <td>1.274522e+02</td>\n",
       "      <td>4.637773</td>\n",
       "      <td>3.034880</td>\n",
       "      <td>0.898452</td>\n",
       "      <td>0.546274</td>\n",
       "      <td>0.365083</td>\n",
       "      <td>0.451486</td>\n",
       "      <td>2.083248</td>\n",
       "      <td>4.602126</td>\n",
       "      <td>1.612351</td>\n",
       "      <td>2.077481</td>\n",
       "      <td>2.768223e+01</td>\n",
       "      <td>1.901908</td>\n",
       "      <td>1.074899</td>\n",
       "      <td>2.599074</td>\n",
       "      <td>0.625551</td>\n",
       "      <td>0.192467</td>\n",
       "    </tr>\n",
       "    <tr>\n",
       "      <td>Probability</td>\n",
       "      <td>0.003170</td>\n",
       "      <td>0.000925</td>\n",
       "      <td>1.323291e-07</td>\n",
       "      <td>1.283085e-55</td>\n",
       "      <td>0.003406</td>\n",
       "      <td>0.029293</td>\n",
       "      <td>0.442137</td>\n",
       "      <td>0.650960</td>\n",
       "      <td>0.778258</td>\n",
       "      <td>0.716407</td>\n",
       "      <td>0.102145</td>\n",
       "      <td>0.003574</td>\n",
       "      <td>0.186213</td>\n",
       "      <td>0.102909</td>\n",
       "      <td>4.547895e-16</td>\n",
       "      <td>0.128965</td>\n",
       "      <td>0.359736</td>\n",
       "      <td>0.052126</td>\n",
       "      <td>0.598905</td>\n",
       "      <td>0.901506</td>\n",
       "    </tr>\n",
       "  </tbody>\n",
       "</table>\n",
       "</div>"
      ],
      "text/plain": [
       "                  sex       age       smoking          chol  chest pain  \\\n",
       "F-value      4.690801  5.600983  1.219611e+01  1.274522e+02    4.637773   \n",
       "Probability  0.003170  0.000925  1.323291e-07  1.283085e-55    0.003406   \n",
       "\n",
       "              max_hrt       bmi  pulse_rate       rbp       fbs      recg  \\\n",
       "F-value      3.034880  0.898452    0.546274  0.365083  0.451486  2.083248   \n",
       "Probability  0.029293  0.442137    0.650960  0.778258  0.716407  0.102145   \n",
       "\n",
       "              oldpeak     slope     exang           LAD        OM        CA  \\\n",
       "F-value      4.602126  1.612351  2.077481  2.768223e+01  1.901908  1.074899   \n",
       "Probability  0.003574  0.186213  0.102909  4.547895e-16  0.128965  0.359736   \n",
       "\n",
       "                  RCA       LPD       LCA  \n",
       "F-value      2.599074  0.625551  0.192467  \n",
       "Probability  0.052126  0.598905  0.901506  "
      ]
     },
     "execution_count": 167,
     "metadata": {},
     "output_type": "execute_result"
    }
   ],
   "source": [
    "#calculating the f-value and probability of the columns\n",
    "di={}\n",
    "fvalue,prob=feature_selection.f_classif(X,y)\n",
    "for col,f,p in zip(X.columns,fvalue,prob):\n",
    "    di[col]=[f,p]\n",
    "f_p=pd.DataFrame(di)\n",
    "f_p.rename(index={0:\"F-value\",1:\"Probability\"})"
   ]
  },
  {
   "cell_type": "code",
   "execution_count": 168,
   "metadata": {},
   "outputs": [],
   "source": [
    "#feature_selection module calculates f-values and probabilities of every column\n",
    "#Based on the f-values and probabilities, we got an idea of columns to be dropped\n",
    "#Higher the f-value and lower the probability, higher is the influence of that column on the dependent variable\n",
    "lst=['fbs','rbp','LCA','LPD','pulse_rate','recg']"
   ]
  },
  {
   "cell_type": "code",
   "execution_count": 169,
   "metadata": {},
   "outputs": [],
   "source": [
    "df.drop(lst,axis=1,inplace=True)"
   ]
  },
  {
   "cell_type": "code",
   "execution_count": 170,
   "metadata": {},
   "outputs": [
    {
     "name": "stdout",
     "output_type": "stream",
     "text": [
      "<class 'pandas.core.frame.DataFrame'>\n",
      "Int64Index: 350 entries, 0 to 491\n",
      "Data columns (total 15 columns):\n",
      "sex           350 non-null uint8\n",
      "age           350 non-null float64\n",
      "smoking       350 non-null uint8\n",
      "chol          350 non-null float64\n",
      "chest pain    350 non-null float64\n",
      "max_hrt       350 non-null float64\n",
      "bmi           350 non-null float64\n",
      "oldpeak       350 non-null int32\n",
      "slope         350 non-null float64\n",
      "exang         350 non-null float64\n",
      "LAD           350 non-null int32\n",
      "OM            350 non-null float64\n",
      "CA            350 non-null int32\n",
      "RCA           350 non-null int32\n",
      "stent         350 non-null float64\n",
      "dtypes: float64(9), int32(4), uint8(2)\n",
      "memory usage: 33.5 KB\n"
     ]
    }
   ],
   "source": [
    "#displaying the structure of the dataset to make sure the changes are done\n",
    "df.info()"
   ]
  },
  {
   "cell_type": "code",
   "execution_count": 171,
   "metadata": {},
   "outputs": [],
   "source": [
    "X = df.drop('stent',axis=1)\n",
    "y=df['stent']\n"
   ]
  },
  {
   "cell_type": "code",
   "execution_count": 172,
   "metadata": {},
   "outputs": [],
   "source": [
    "#splitting the dataset into train and test\n",
    "#the train set will be used to train the model\n",
    "#the test set will be used to test the model\n",
    "X_train,X_test,y_train,y_test=model_selection.train_test_split(X,y,test_size=0.3,random_state=42,stratify=y)"
   ]
  },
  {
   "cell_type": "code",
   "execution_count": 173,
   "metadata": {},
   "outputs": [
    {
     "name": "stdout",
     "output_type": "stream",
     "text": [
      "accuracy:\n",
      "0.780952380952381\n",
      "[[29  6  1  0]\n",
      " [ 2 44  6  0]\n",
      " [ 0  5  7  2]\n",
      " [ 0  0  1  2]]\n",
      "              precision    recall  f1-score   support\n",
      "\n",
      "         0.0       0.94      0.81      0.87        36\n",
      "         1.0       0.80      0.85      0.82        52\n",
      "         2.0       0.47      0.50      0.48        14\n",
      "         3.0       0.50      0.67      0.57         3\n",
      "\n",
      "    accuracy                           0.78       105\n",
      "   macro avg       0.68      0.70      0.69       105\n",
      "weighted avg       0.79      0.78      0.78       105\n",
      "\n"
     ]
    }
   ],
   "source": [
    "#decision tree classifier\n",
    "from sklearn.tree import DecisionTreeClassifier \n",
    "# training a DescisionTreeClassifier \n",
    "from sklearn import metrics\n",
    "dtree = DecisionTreeClassifier().fit(X_train, y_train) \n",
    "dtree_predictions = dtree.predict(X_test) \n",
    "# accuracy on X_test \n",
    "accuracy = dtree.score(X_test, y_test) \n",
    "print(\"accuracy:\")\n",
    "print(accuracy)\n",
    "#creating the confusion matrix\n",
    " \n",
    "print(metrics.confusion_matrix(y_test,dtree_predictions))\n",
    "#the classification report is printed\n",
    "print(metrics.classification_report(y_test, dtree_predictions))\n"
   ]
  },
  {
   "cell_type": "code",
   "execution_count": 174,
   "metadata": {},
   "outputs": [
    {
     "name": "stdout",
     "output_type": "stream",
     "text": [
      "accuracy:\n",
      "0.7142857142857143\n",
      "[[23 13  0  0]\n",
      " [ 6 43  3  0]\n",
      " [ 0  6  8  0]\n",
      " [ 0  0  2  1]]\n",
      "              precision    recall  f1-score   support\n",
      "\n",
      "         0.0       0.79      0.64      0.71        36\n",
      "         1.0       0.69      0.83      0.75        52\n",
      "         2.0       0.62      0.57      0.59        14\n",
      "         3.0       1.00      0.33      0.50         3\n",
      "\n",
      "    accuracy                           0.71       105\n",
      "   macro avg       0.78      0.59      0.64       105\n",
      "weighted avg       0.73      0.71      0.71       105\n",
      "\n"
     ]
    }
   ],
   "source": [
    "#knn classifier\n",
    "from sklearn.neighbors import KNeighborsClassifier \n",
    "#training the knn classifier\n",
    "knn = KNeighborsClassifier(n_neighbors = 7).fit(X_train, y_train) \n",
    "\n",
    "# accuracy on X_test \n",
    "accuracy = knn.score(X_test, y_test) \n",
    "print(\"accuracy:\")\n",
    "print(accuracy)\n",
    "\n",
    "# creating a confusion matrix \n",
    "knn_predictions = knn.predict(X_test) \n",
    "#creating the confusion matrix\n",
    "print(metrics.confusion_matrix(y_test,knn_predictions))\n",
    "#the classification report is printed\n",
    "print(metrics.classification_report(y_test, knn_predictions))"
   ]
  },
  {
   "cell_type": "code",
   "execution_count": 175,
   "metadata": {},
   "outputs": [
    {
     "name": "stdout",
     "output_type": "stream",
     "text": [
      "accuracy:\n",
      "0.7619047619047619\n",
      "[[26 10  0  0]\n",
      " [ 4 46  1  1]\n",
      " [ 0  5  5  4]\n",
      " [ 0  0  0  3]]\n",
      "              precision    recall  f1-score   support\n",
      "\n",
      "         0.0       0.87      0.72      0.79        36\n",
      "         1.0       0.75      0.88      0.81        52\n",
      "         2.0       0.83      0.36      0.50        14\n",
      "         3.0       0.38      1.00      0.55         3\n",
      "\n",
      "    accuracy                           0.76       105\n",
      "   macro avg       0.71      0.74      0.66       105\n",
      "weighted avg       0.79      0.76      0.76       105\n",
      "\n"
     ]
    }
   ],
   "source": [
    "#naive bayes\n",
    "\n",
    "# training a Naive Bayes classifier \n",
    "from sklearn.naive_bayes import GaussianNB \n",
    "gnb = GaussianNB().fit(X_train, y_train) \n",
    "gnb_predictions = gnb.predict(X_test) \n",
    "# accuracy on X_test \n",
    "accuracy = gnb.score(X_test, y_test) \n",
    "print(\"accuracy:\")\n",
    "print(accuracy)\n",
    "\n",
    "#creating the confusion matrix\n",
    "print(metrics.confusion_matrix(y_test,gnb_predictions))\n",
    "#the classification report is printed\n",
    "print(metrics.classification_report(y_test, gnb_predictions))"
   ]
  },
  {
   "cell_type": "code",
   "execution_count": 176,
   "metadata": {},
   "outputs": [
    {
     "name": "stdout",
     "output_type": "stream",
     "text": [
      "accuracy:\n",
      "0.7428571428571429\n",
      "[[29  7  0  0]\n",
      " [ 9 43  0  0]\n",
      " [ 0  8  5  1]\n",
      " [ 0  0  2  1]]\n",
      "              precision    recall  f1-score   support\n",
      "\n",
      "         0.0       0.76      0.81      0.78        36\n",
      "         1.0       0.74      0.83      0.78        52\n",
      "         2.0       0.71      0.36      0.48        14\n",
      "         3.0       0.50      0.33      0.40         3\n",
      "\n",
      "    accuracy                           0.74       105\n",
      "   macro avg       0.68      0.58      0.61       105\n",
      "weighted avg       0.74      0.74      0.73       105\n",
      "\n"
     ]
    }
   ],
   "source": [
    "from sklearn.ensemble import RandomForestClassifier\n",
    "#training the random forest classifier\n",
    "forest = RandomForestClassifier(n_estimators = 10, criterion = 'entropy', random_state = 42)\n",
    "forest.fit(X_train, y_train)\n",
    "rnd_predictions = forest.predict(X_test) \n",
    "# accuracy on X_test \n",
    "accuracy = forest.score(X_test, y_test) \n",
    "print(\"accuracy:\")\n",
    "print(accuracy)\n",
    "#creating the confusion matrix\n",
    "print(metrics.confusion_matrix(y_test,rnd_predictions))\n",
    "#the classification report is printed\n",
    "print(metrics.classification_report(y_test, rnd_predictions))"
   ]
  },
  {
   "cell_type": "code",
   "execution_count": 177,
   "metadata": {},
   "outputs": [],
   "source": [
    "#as the decision tree classifier model has the maximum accuracy,it shall be used to implement the model"
   ]
  },
  {
   "cell_type": "code",
   "execution_count": 178,
   "metadata": {},
   "outputs": [],
   "source": [
    "#help('modules')"
   ]
  },
  {
   "cell_type": "code",
   "execution_count": 179,
   "metadata": {},
   "outputs": [],
   "source": [
    "#import joblib\n",
    "#dtree_model=open(\"dtree_model.pkl\",\"wb\")\n",
    "#joblib.dump(dtree,dtree_model)"
   ]
  },
  {
   "cell_type": "code",
   "execution_count": 180,
   "metadata": {},
   "outputs": [],
   "source": [
    "#dtree_model.close()"
   ]
  },
  {
   "cell_type": "code",
   "execution_count": 181,
   "metadata": {},
   "outputs": [],
   "source": [
    "df.to_csv('stent.csv')"
   ]
  },
  {
   "cell_type": "code",
   "execution_count": 182,
   "metadata": {},
   "outputs": [
    {
     "name": "stdout",
     "output_type": "stream",
     "text": [
      "Requirement already satisfied: ipython in c:\\users\\prachee\\anaconda3\\lib\\site-packages (7.8.0)\n",
      "Requirement already satisfied: decorator in c:\\users\\prachee\\anaconda3\\lib\\site-packages (from ipython) (4.4.0)\n",
      "Requirement already satisfied: prompt-toolkit<2.1.0,>=2.0.0 in c:\\users\\prachee\\anaconda3\\lib\\site-packages (from ipython) (2.0.10)\n",
      "Requirement already satisfied: colorama; sys_platform == \"win32\" in c:\\users\\prachee\\anaconda3\\lib\\site-packages (from ipython) (0.4.1)\n",
      "Requirement already satisfied: pygments in c:\\users\\prachee\\anaconda3\\lib\\site-packages (from ipython) (2.4.2)\n",
      "Requirement already satisfied: setuptools>=18.5 in c:\\users\\prachee\\anaconda3\\lib\\site-packages (from ipython) (41.4.0)\n",
      "Requirement already satisfied: pickleshare in c:\\users\\prachee\\anaconda3\\lib\\site-packages (from ipython) (0.7.5)\n",
      "Requirement already satisfied: traitlets>=4.2 in c:\\users\\prachee\\anaconda3\\lib\\site-packages (from ipython) (4.3.3)\n",
      "Requirement already satisfied: jedi>=0.10 in c:\\users\\prachee\\anaconda3\\lib\\site-packages (from ipython) (0.15.1)\n",
      "Requirement already satisfied: backcall in c:\\users\\prachee\\anaconda3\\lib\\site-packages (from ipython) (0.1.0)\n",
      "Requirement already satisfied: wcwidth in c:\\users\\prachee\\anaconda3\\lib\\site-packages (from prompt-toolkit<2.1.0,>=2.0.0->ipython) (0.1.7)\n",
      "Requirement already satisfied: six>=1.9.0 in c:\\users\\prachee\\anaconda3\\lib\\site-packages (from prompt-toolkit<2.1.0,>=2.0.0->ipython) (1.12.0)\n",
      "Requirement already satisfied: ipython-genutils in c:\\users\\prachee\\anaconda3\\lib\\site-packages (from traitlets>=4.2->ipython) (0.2.0)\n",
      "Requirement already satisfied: parso>=0.5.0 in c:\\users\\prachee\\anaconda3\\lib\\site-packages (from jedi>=0.10->ipython) (0.5.1)\n",
      "Note: you may need to restart the kernel to use updated packages.\n"
     ]
    }
   ],
   "source": [
    "pip install ipython"
   ]
  },
  {
   "cell_type": "code",
   "execution_count": 183,
   "metadata": {},
   "outputs": [
    {
     "name": "stdout",
     "output_type": "stream",
     "text": [
      "Requirement already satisfied: nbconvert in c:\\users\\prachee\\anaconda3\\lib\\site-packages (5.6.0)\n",
      "Requirement already satisfied: traitlets>=4.2 in c:\\users\\prachee\\anaconda3\\lib\\site-packages (from nbconvert) (4.3.3)\n",
      "Requirement already satisfied: mistune<2,>=0.8.1 in c:\\users\\prachee\\anaconda3\\lib\\site-packages (from nbconvert) (0.8.4)\n",
      "Requirement already satisfied: nbformat>=4.4 in c:\\users\\prachee\\anaconda3\\lib\\site-packages (from nbconvert) (4.4.0)\n",
      "Requirement already satisfied: entrypoints>=0.2.2 in c:\\users\\prachee\\anaconda3\\lib\\site-packages (from nbconvert) (0.3)\n",
      "Requirement already satisfied: bleach in c:\\users\\prachee\\anaconda3\\lib\\site-packages (from nbconvert) (3.1.0)\n",
      "Requirement already satisfied: defusedxml in c:\\users\\prachee\\anaconda3\\lib\\site-packages (from nbconvert) (0.6.0)\n",
      "Requirement already satisfied: pygments in c:\\users\\prachee\\anaconda3\\lib\\site-packages (from nbconvert) (2.4.2)\n",
      "Requirement already satisfied: jupyter-core in c:\\users\\prachee\\anaconda3\\lib\\site-packages (from nbconvert) (4.5.0)\n",
      "Requirement already satisfied: jinja2>=2.4 in c:\\users\\prachee\\anaconda3\\lib\\site-packages (from nbconvert) (2.10.3)\n",
      "Requirement already satisfied: pandocfilters>=1.4.1 in c:\\users\\prachee\\anaconda3\\lib\\site-packages (from nbconvert) (1.4.2)\n",
      "Requirement already satisfied: testpath in c:\\users\\prachee\\anaconda3\\lib\\site-packages (from nbconvert) (0.4.2)\n",
      "Requirement already satisfied: ipython-genutils in c:\\users\\prachee\\anaconda3\\lib\\site-packages (from traitlets>=4.2->nbconvert) (0.2.0)\n",
      "Requirement already satisfied: decorator in c:\\users\\prachee\\anaconda3\\lib\\site-packages (from traitlets>=4.2->nbconvert) (4.4.0)\n",
      "Requirement already satisfied: six in c:\\users\\prachee\\anaconda3\\lib\\site-packages (from traitlets>=4.2->nbconvert) (1.12.0)\n",
      "Requirement already satisfied: jsonschema!=2.5.0,>=2.4 in c:\\users\\prachee\\anaconda3\\lib\\site-packages (from nbformat>=4.4->nbconvert) (3.0.2)\n",
      "Requirement already satisfied: webencodings in c:\\users\\prachee\\anaconda3\\lib\\site-packages (from bleach->nbconvert) (0.5.1)\n",
      "Requirement already satisfied: MarkupSafe>=0.23 in c:\\users\\prachee\\anaconda3\\lib\\site-packages (from jinja2>=2.4->nbconvert) (1.1.1)\n",
      "Requirement already satisfied: setuptools in c:\\users\\prachee\\anaconda3\\lib\\site-packages (from jsonschema!=2.5.0,>=2.4->nbformat>=4.4->nbconvert) (41.4.0)\n",
      "Requirement already satisfied: pyrsistent>=0.14.0 in c:\\users\\prachee\\anaconda3\\lib\\site-packages (from jsonschema!=2.5.0,>=2.4->nbformat>=4.4->nbconvert) (0.15.4)\n",
      "Requirement already satisfied: attrs>=17.4.0 in c:\\users\\prachee\\anaconda3\\lib\\site-packages (from jsonschema!=2.5.0,>=2.4->nbformat>=4.4->nbconvert) (19.2.0)\n",
      "Note: you may need to restart the kernel to use updated packages.\n"
     ]
    }
   ],
   "source": [
    "pip install nbconvert"
   ]
  },
  {
   "cell_type": "code",
   "execution_count": 188,
   "metadata": {},
   "outputs": [
    {
     "name": "stdout",
     "output_type": "stream",
     "text": [
      "Collecting ipynb-py-convert\n",
      "  Downloading https://files.pythonhosted.org/packages/8a/2b/6029c1aa3a3ea70140038388f9d4e03f1c0e78a11326244491d69a5aedec/ipynb-py-convert-0.4.5.tar.gz\n",
      "Building wheels for collected packages: ipynb-py-convert\n",
      "  Building wheel for ipynb-py-convert (setup.py): started\n",
      "  Building wheel for ipynb-py-convert (setup.py): finished with status 'done'\n",
      "  Created wheel for ipynb-py-convert: filename=ipynb_py_convert-0.4.5-cp37-none-any.whl size=4328 sha256=ca696586ac7b02f47c3a875bed89a4e153b2de6757fb463f5c1f30af9583339b\n",
      "  Stored in directory: C:\\Users\\Prachee\\AppData\\Local\\pip\\Cache\\wheels\\d4\\99\\01\\24932d0201ed03d2d9e129b40f8e933e8ab51329ed88380cdc\n",
      "Successfully built ipynb-py-convert\n",
      "Installing collected packages: ipynb-py-convert\n",
      "Successfully installed ipynb-py-convert-0.4.5\n",
      "Note: you may need to restart the kernel to use updated packages.\n"
     ]
    }
   ],
   "source": [
    "pip install ipynb-py-convert"
   ]
  },
  {
   "cell_type": "code",
   "execution_count": 193,
   "metadata": {},
   "outputs": [
    {
     "ename": "SyntaxError",
     "evalue": "invalid syntax (<ipython-input-193-26cdd53ada53>, line 1)",
     "output_type": "error",
     "traceback": [
      "\u001b[1;36m  File \u001b[1;32m\"<ipython-input-193-26cdd53ada53>\"\u001b[1;36m, line \u001b[1;32m1\u001b[0m\n\u001b[1;33m    ipython nbconvert --to script enigma.ipynb\u001b[0m\n\u001b[1;37m                    ^\u001b[0m\n\u001b[1;31mSyntaxError\u001b[0m\u001b[1;31m:\u001b[0m invalid syntax\n"
     ]
    }
   ],
   "source": [
    "#!jupyter nbconvert --to script enigma.ipynb"
   ]
  },
  {
   "cell_type": "code",
   "execution_count": 194,
   "metadata": {},
   "outputs": [
    {
     "ename": "SyntaxError",
     "evalue": "invalid syntax (<ipython-input-194-4937bcadc227>, line 1)",
     "output_type": "error",
     "traceback": [
      "\u001b[1;36m  File \u001b[1;32m\"<ipython-input-194-4937bcadc227>\"\u001b[1;36m, line \u001b[1;32m1\u001b[0m\n\u001b[1;33m    ipynb-py-convert enigma.py enigma.ipynb\u001b[0m\n\u001b[1;37m                          ^\u001b[0m\n\u001b[1;31mSyntaxError\u001b[0m\u001b[1;31m:\u001b[0m invalid syntax\n"
     ]
    }
   ],
   "source": [
    "ipynb-py-convert enigma.py enigma.ipynb"
   ]
  },
  {
   "cell_type": "code",
   "execution_count": null,
   "metadata": {},
   "outputs": [],
   "source": []
  },
  {
   "cell_type": "code",
   "execution_count": null,
   "metadata": {},
   "outputs": [],
   "source": []
  },
  {
   "cell_type": "code",
   "execution_count": null,
   "metadata": {},
   "outputs": [],
   "source": []
  },
  {
   "cell_type": "code",
   "execution_count": null,
   "metadata": {},
   "outputs": [],
   "source": []
  },
  {
   "cell_type": "code",
   "execution_count": null,
   "metadata": {},
   "outputs": [],
   "source": []
  },
  {
   "cell_type": "code",
   "execution_count": null,
   "metadata": {},
   "outputs": [],
   "source": []
  },
  {
   "cell_type": "code",
   "execution_count": null,
   "metadata": {},
   "outputs": [],
   "source": []
  },
  {
   "cell_type": "code",
   "execution_count": null,
   "metadata": {},
   "outputs": [],
   "source": []
  },
  {
   "cell_type": "code",
   "execution_count": null,
   "metadata": {},
   "outputs": [],
   "source": []
  },
  {
   "cell_type": "code",
   "execution_count": null,
   "metadata": {},
   "outputs": [],
   "source": []
  },
  {
   "cell_type": "code",
   "execution_count": null,
   "metadata": {},
   "outputs": [],
   "source": []
  },
  {
   "cell_type": "code",
   "execution_count": null,
   "metadata": {},
   "outputs": [],
   "source": []
  },
  {
   "cell_type": "code",
   "execution_count": null,
   "metadata": {},
   "outputs": [],
   "source": []
  },
  {
   "cell_type": "code",
   "execution_count": null,
   "metadata": {},
   "outputs": [],
   "source": []
  },
  {
   "cell_type": "code",
   "execution_count": null,
   "metadata": {},
   "outputs": [],
   "source": []
  },
  {
   "cell_type": "code",
   "execution_count": null,
   "metadata": {},
   "outputs": [],
   "source": []
  },
  {
   "cell_type": "code",
   "execution_count": null,
   "metadata": {},
   "outputs": [],
   "source": []
  },
  {
   "cell_type": "code",
   "execution_count": null,
   "metadata": {},
   "outputs": [],
   "source": []
  },
  {
   "cell_type": "code",
   "execution_count": null,
   "metadata": {},
   "outputs": [],
   "source": []
  }
 ],
 "metadata": {
  "kernelspec": {
   "display_name": "Python 3",
   "language": "python",
   "name": "python3"
  },
  "language_info": {
   "codemirror_mode": {
    "name": "ipython",
    "version": 3
   },
   "file_extension": ".py",
   "mimetype": "text/x-python",
   "name": "python",
   "nbconvert_exporter": "python",
   "pygments_lexer": "ipython3",
   "version": "3.7.4"
  }
 },
 "nbformat": 4,
 "nbformat_minor": 2
}
